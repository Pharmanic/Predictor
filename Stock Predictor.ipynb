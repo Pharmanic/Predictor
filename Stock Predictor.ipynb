{
 "cells": [
  {
   "cell_type": "code",
   "execution_count": 80,
   "metadata": {},
   "outputs": [],
   "source": [
    "import pandas as pd\n",
    "import matplotlib.pyplot as plt\n",
    "%matplotlib inline\n",
    "from sklearn.metrics import mean_squared_error\n",
    "import numpy as np\n",
    "from statsmodels.graphics.tsaplots import plot_acf, plot_pacf\n",
    "from statsmodels.tsa.arima_model import ARIMA\n",
    "import pickle"
   ]
  },
  {
   "cell_type": "code",
   "execution_count": 165,
   "metadata": {},
   "outputs": [],
   "source": [
    "supplies = pd.read_csv('Supplies4.csv', parse_dates=[0], index_col=[0])"
   ]
  },
  {
   "cell_type": "code",
   "execution_count": 166,
   "metadata": {},
   "outputs": [
    {
     "data": {
      "text/html": [
       "<div>\n",
       "<style scoped>\n",
       "    .dataframe tbody tr th:only-of-type {\n",
       "        vertical-align: middle;\n",
       "    }\n",
       "\n",
       "    .dataframe tbody tr th {\n",
       "        vertical-align: top;\n",
       "    }\n",
       "\n",
       "    .dataframe thead th {\n",
       "        text-align: right;\n",
       "    }\n",
       "</style>\n",
       "<table border=\"1\" class=\"dataframe\">\n",
       "  <thead>\n",
       "    <tr style=\"text-align: right;\">\n",
       "      <th></th>\n",
       "      <th>supplies</th>\n",
       "    </tr>\n",
       "    <tr>\n",
       "      <th>date</th>\n",
       "      <th></th>\n",
       "    </tr>\n",
       "  </thead>\n",
       "  <tbody>\n",
       "    <tr>\n",
       "      <th>2009-07-20</th>\n",
       "      <td>2016</td>\n",
       "    </tr>\n",
       "    <tr>\n",
       "      <th>2009-07-21</th>\n",
       "      <td>2153</td>\n",
       "    </tr>\n",
       "    <tr>\n",
       "      <th>2009-07-22</th>\n",
       "      <td>4211</td>\n",
       "    </tr>\n",
       "    <tr>\n",
       "      <th>2009-07-23</th>\n",
       "      <td>2448</td>\n",
       "    </tr>\n",
       "    <tr>\n",
       "      <th>2009-07-24</th>\n",
       "      <td>3216</td>\n",
       "    </tr>\n",
       "  </tbody>\n",
       "</table>\n",
       "</div>"
      ],
      "text/plain": [
       "            supplies\n",
       "date                \n",
       "2009-07-20      2016\n",
       "2009-07-21      2153\n",
       "2009-07-22      4211\n",
       "2009-07-23      2448\n",
       "2009-07-24      3216"
      ]
     },
     "execution_count": 166,
     "metadata": {},
     "output_type": "execute_result"
    }
   ],
   "source": [
    "supplies.head()"
   ]
  },
  {
   "cell_type": "code",
   "execution_count": 167,
   "metadata": {},
   "outputs": [],
   "source": [
    "f_supplies = supplies.iloc[:, [0]]"
   ]
  },
  {
   "cell_type": "code",
   "execution_count": 168,
   "metadata": {},
   "outputs": [
    {
     "data": {
      "text/html": [
       "<div>\n",
       "<style scoped>\n",
       "    .dataframe tbody tr th:only-of-type {\n",
       "        vertical-align: middle;\n",
       "    }\n",
       "\n",
       "    .dataframe tbody tr th {\n",
       "        vertical-align: top;\n",
       "    }\n",
       "\n",
       "    .dataframe thead th {\n",
       "        text-align: right;\n",
       "    }\n",
       "</style>\n",
       "<table border=\"1\" class=\"dataframe\">\n",
       "  <thead>\n",
       "    <tr style=\"text-align: right;\">\n",
       "      <th></th>\n",
       "      <th>supplies</th>\n",
       "    </tr>\n",
       "    <tr>\n",
       "      <th>date</th>\n",
       "      <th></th>\n",
       "    </tr>\n",
       "  </thead>\n",
       "  <tbody>\n",
       "    <tr>\n",
       "      <th>2009-07-20</th>\n",
       "      <td>2016</td>\n",
       "    </tr>\n",
       "    <tr>\n",
       "      <th>2009-07-21</th>\n",
       "      <td>2153</td>\n",
       "    </tr>\n",
       "    <tr>\n",
       "      <th>2009-07-22</th>\n",
       "      <td>4211</td>\n",
       "    </tr>\n",
       "    <tr>\n",
       "      <th>2009-07-23</th>\n",
       "      <td>2448</td>\n",
       "    </tr>\n",
       "    <tr>\n",
       "      <th>2009-07-24</th>\n",
       "      <td>3216</td>\n",
       "    </tr>\n",
       "  </tbody>\n",
       "</table>\n",
       "</div>"
      ],
      "text/plain": [
       "            supplies\n",
       "date                \n",
       "2009-07-20      2016\n",
       "2009-07-21      2153\n",
       "2009-07-22      4211\n",
       "2009-07-23      2448\n",
       "2009-07-24      3216"
      ]
     },
     "execution_count": 168,
     "metadata": {},
     "output_type": "execute_result"
    }
   ],
   "source": [
    "f_supplies.head()"
   ]
  },
  {
   "cell_type": "code",
   "execution_count": 169,
   "metadata": {},
   "outputs": [
    {
     "data": {
      "text/plain": [
       "pandas.core.frame.DataFrame"
      ]
     },
     "execution_count": 169,
     "metadata": {},
     "output_type": "execute_result"
    }
   ],
   "source": [
    "type(f_supplies)"
   ]
  },
  {
   "cell_type": "code",
   "execution_count": 170,
   "metadata": {},
   "outputs": [],
   "source": [
    "series_value = f_supplies.values"
   ]
  },
  {
   "cell_type": "code",
   "execution_count": 171,
   "metadata": {},
   "outputs": [
    {
     "data": {
      "text/plain": [
       "numpy.ndarray"
      ]
     },
     "execution_count": 171,
     "metadata": {},
     "output_type": "execute_result"
    }
   ],
   "source": [
    "type(series_value)"
   ]
  },
  {
   "cell_type": "code",
   "execution_count": 172,
   "metadata": {},
   "outputs": [
    {
     "data": {
      "text/plain": [
       "3999"
      ]
     },
     "execution_count": 172,
     "metadata": {},
     "output_type": "execute_result"
    }
   ],
   "source": [
    "f_supplies.size"
   ]
  },
  {
   "cell_type": "code",
   "execution_count": 173,
   "metadata": {},
   "outputs": [
    {
     "data": {
      "text/html": [
       "<div>\n",
       "<style scoped>\n",
       "    .dataframe tbody tr th:only-of-type {\n",
       "        vertical-align: middle;\n",
       "    }\n",
       "\n",
       "    .dataframe tbody tr th {\n",
       "        vertical-align: top;\n",
       "    }\n",
       "\n",
       "    .dataframe thead th {\n",
       "        text-align: right;\n",
       "    }\n",
       "</style>\n",
       "<table border=\"1\" class=\"dataframe\">\n",
       "  <thead>\n",
       "    <tr style=\"text-align: right;\">\n",
       "      <th></th>\n",
       "      <th>supplies</th>\n",
       "    </tr>\n",
       "    <tr>\n",
       "      <th>date</th>\n",
       "      <th></th>\n",
       "    </tr>\n",
       "  </thead>\n",
       "  <tbody>\n",
       "    <tr>\n",
       "      <th>2020-06-26</th>\n",
       "      <td>3064</td>\n",
       "    </tr>\n",
       "    <tr>\n",
       "      <th>2020-06-27</th>\n",
       "      <td>4511</td>\n",
       "    </tr>\n",
       "    <tr>\n",
       "      <th>2020-06-28</th>\n",
       "      <td>2756</td>\n",
       "    </tr>\n",
       "    <tr>\n",
       "      <th>2020-06-29</th>\n",
       "      <td>4032</td>\n",
       "    </tr>\n",
       "    <tr>\n",
       "      <th>2020-06-30</th>\n",
       "      <td>2251</td>\n",
       "    </tr>\n",
       "  </tbody>\n",
       "</table>\n",
       "</div>"
      ],
      "text/plain": [
       "            supplies\n",
       "date                \n",
       "2020-06-26      3064\n",
       "2020-06-27      4511\n",
       "2020-06-28      2756\n",
       "2020-06-29      4032\n",
       "2020-06-30      2251"
      ]
     },
     "execution_count": 173,
     "metadata": {},
     "output_type": "execute_result"
    }
   ],
   "source": [
    "f_supplies.tail()"
   ]
  },
  {
   "cell_type": "code",
   "execution_count": 174,
   "metadata": {},
   "outputs": [
    {
     "data": {
      "text/html": [
       "<div>\n",
       "<style scoped>\n",
       "    .dataframe tbody tr th:only-of-type {\n",
       "        vertical-align: middle;\n",
       "    }\n",
       "\n",
       "    .dataframe tbody tr th {\n",
       "        vertical-align: top;\n",
       "    }\n",
       "\n",
       "    .dataframe thead th {\n",
       "        text-align: right;\n",
       "    }\n",
       "</style>\n",
       "<table border=\"1\" class=\"dataframe\">\n",
       "  <thead>\n",
       "    <tr style=\"text-align: right;\">\n",
       "      <th></th>\n",
       "      <th>supplies</th>\n",
       "    </tr>\n",
       "  </thead>\n",
       "  <tbody>\n",
       "    <tr>\n",
       "      <th>count</th>\n",
       "      <td>3999.000000</td>\n",
       "    </tr>\n",
       "    <tr>\n",
       "      <th>mean</th>\n",
       "      <td>2985.755939</td>\n",
       "    </tr>\n",
       "    <tr>\n",
       "      <th>std</th>\n",
       "      <td>844.878364</td>\n",
       "    </tr>\n",
       "    <tr>\n",
       "      <th>min</th>\n",
       "      <td>2000.000000</td>\n",
       "    </tr>\n",
       "    <tr>\n",
       "      <th>25%</th>\n",
       "      <td>2200.000000</td>\n",
       "    </tr>\n",
       "    <tr>\n",
       "      <th>50%</th>\n",
       "      <td>2768.000000</td>\n",
       "    </tr>\n",
       "    <tr>\n",
       "      <th>75%</th>\n",
       "      <td>3750.000000</td>\n",
       "    </tr>\n",
       "    <tr>\n",
       "      <th>max</th>\n",
       "      <td>4883.000000</td>\n",
       "    </tr>\n",
       "  </tbody>\n",
       "</table>\n",
       "</div>"
      ],
      "text/plain": [
       "          supplies\n",
       "count  3999.000000\n",
       "mean   2985.755939\n",
       "std     844.878364\n",
       "min    2000.000000\n",
       "25%    2200.000000\n",
       "50%    2768.000000\n",
       "75%    3750.000000\n",
       "max    4883.000000"
      ]
     },
     "execution_count": 174,
     "metadata": {},
     "output_type": "execute_result"
    }
   ],
   "source": [
    "f_supplies.describe()"
   ]
  },
  {
   "cell_type": "code",
   "execution_count": 175,
   "metadata": {},
   "outputs": [
    {
     "data": {
      "text/plain": [
       "<matplotlib.axes._subplots.AxesSubplot at 0x19401672e50>"
      ]
     },
     "execution_count": 175,
     "metadata": {},
     "output_type": "execute_result"
    },
    {
     "data": {
      "image/png": "[encoded data removed]",
      "text/plain": [
       "<Figure size 432x288 with 1 Axes>"
      ]
     },
     "metadata": {
      "needs_background": "light"
     },
     "output_type": "display_data"
    }
   ],
   "source": [
    "f_supplies.plot()"
   ]
  },
  {
   "cell_type": "code",
   "execution_count": 176,
   "metadata": {},
   "outputs": [],
   "source": [
    "f_supplies_mean = f_supplies.rolling(window = 50).mean()"
   ]
  },
  {
   "cell_type": "code",
   "execution_count": 177,
   "metadata": {},
   "outputs": [
    {
     "data": {
      "text/plain": [
       "<matplotlib.axes._subplots.AxesSubplot at 0x19401be1fd0>"
      ]
     },
     "execution_count": 177,
     "metadata": {},
     "output_type": "execute_result"
    },
    {
     "data": {
      "image/png": "[encoded data removed]",
      "text/plain": [
       "<Figure size 432x288 with 1 Axes>"
      ]
     },
     "metadata": {
      "needs_background": "light"
     },
     "output_type": "display_data"
    },
    {
     "data": {
      "image/png": "[encoded data removed]",
      "text/plain": [
       "<Figure size 432x288 with 1 Axes>"
      ]
     },
     "metadata": {
      "needs_background": "light"
     },
     "output_type": "display_data"
    }
   ],
   "source": [
    "f_supplies.plot()\n",
    "f_supplies_mean.plot()"
   ]
  },
  {
   "cell_type": "code",
   "execution_count": 178,
   "metadata": {},
   "outputs": [],
   "source": [
    "value = pd.DataFrame(series_value)"
   ]
  },
  {
   "cell_type": "code",
   "execution_count": 179,
   "metadata": {},
   "outputs": [],
   "source": [
    "supplies_df = pd.concat([value, value.shift(1)], axis=1)"
   ]
  },
  {
   "cell_type": "code",
   "execution_count": 180,
   "metadata": {},
   "outputs": [
    {
     "data": {
      "text/html": [
       "<div>\n",
       "<style scoped>\n",
       "    .dataframe tbody tr th:only-of-type {\n",
       "        vertical-align: middle;\n",
       "    }\n",
       "\n",
       "    .dataframe tbody tr th {\n",
       "        vertical-align: top;\n",
       "    }\n",
       "\n",
       "    .dataframe thead th {\n",
       "        text-align: right;\n",
       "    }\n",
       "</style>\n",
       "<table border=\"1\" class=\"dataframe\">\n",
       "  <thead>\n",
       "    <tr style=\"text-align: right;\">\n",
       "      <th></th>\n",
       "      <th>0</th>\n",
       "      <th>0</th>\n",
       "    </tr>\n",
       "  </thead>\n",
       "  <tbody>\n",
       "    <tr>\n",
       "      <th>0</th>\n",
       "      <td>2016</td>\n",
       "      <td>NaN</td>\n",
       "    </tr>\n",
       "    <tr>\n",
       "      <th>1</th>\n",
       "      <td>2153</td>\n",
       "      <td>2016.0</td>\n",
       "    </tr>\n",
       "    <tr>\n",
       "      <th>2</th>\n",
       "      <td>4211</td>\n",
       "      <td>2153.0</td>\n",
       "    </tr>\n",
       "    <tr>\n",
       "      <th>3</th>\n",
       "      <td>2448</td>\n",
       "      <td>4211.0</td>\n",
       "    </tr>\n",
       "    <tr>\n",
       "      <th>4</th>\n",
       "      <td>3216</td>\n",
       "      <td>2448.0</td>\n",
       "    </tr>\n",
       "  </tbody>\n",
       "</table>\n",
       "</div>"
      ],
      "text/plain": [
       "      0       0\n",
       "0  2016     NaN\n",
       "1  2153  2016.0\n",
       "2  4211  2153.0\n",
       "3  2448  4211.0\n",
       "4  3216  2448.0"
      ]
     },
     "execution_count": 180,
     "metadata": {},
     "output_type": "execute_result"
    }
   ],
   "source": [
    "supplies_df.head()"
   ]
  },
  {
   "cell_type": "code",
   "execution_count": 181,
   "metadata": {},
   "outputs": [],
   "source": [
    "supplies_df.columns = ['Actual_usage', 'Forecast_usage']"
   ]
  },
  {
   "cell_type": "code",
   "execution_count": 182,
   "metadata": {},
   "outputs": [
    {
     "data": {
      "text/html": [
       "<div>\n",
       "<style scoped>\n",
       "    .dataframe tbody tr th:only-of-type {\n",
       "        vertical-align: middle;\n",
       "    }\n",
       "\n",
       "    .dataframe tbody tr th {\n",
       "        vertical-align: top;\n",
       "    }\n",
       "\n",
       "    .dataframe thead th {\n",
       "        text-align: right;\n",
       "    }\n",
       "</style>\n",
       "<table border=\"1\" class=\"dataframe\">\n",
       "  <thead>\n",
       "    <tr style=\"text-align: right;\">\n",
       "      <th></th>\n",
       "      <th>Actual_usage</th>\n",
       "      <th>Forecast_usage</th>\n",
       "    </tr>\n",
       "  </thead>\n",
       "  <tbody>\n",
       "    <tr>\n",
       "      <th>0</th>\n",
       "      <td>2016</td>\n",
       "      <td>NaN</td>\n",
       "    </tr>\n",
       "    <tr>\n",
       "      <th>1</th>\n",
       "      <td>2153</td>\n",
       "      <td>2016.0</td>\n",
       "    </tr>\n",
       "    <tr>\n",
       "      <th>2</th>\n",
       "      <td>4211</td>\n",
       "      <td>2153.0</td>\n",
       "    </tr>\n",
       "    <tr>\n",
       "      <th>3</th>\n",
       "      <td>2448</td>\n",
       "      <td>4211.0</td>\n",
       "    </tr>\n",
       "    <tr>\n",
       "      <th>4</th>\n",
       "      <td>3216</td>\n",
       "      <td>2448.0</td>\n",
       "    </tr>\n",
       "  </tbody>\n",
       "</table>\n",
       "</div>"
      ],
      "text/plain": [
       "   Actual_usage  Forecast_usage\n",
       "0          2016             NaN\n",
       "1          2153          2016.0\n",
       "2          4211          2153.0\n",
       "3          2448          4211.0\n",
       "4          3216          2448.0"
      ]
     },
     "execution_count": 182,
     "metadata": {},
     "output_type": "execute_result"
    }
   ],
   "source": [
    "supplies_df.head()"
   ]
  },
  {
   "cell_type": "code",
   "execution_count": 183,
   "metadata": {},
   "outputs": [],
   "source": [
    "supplies_test = supplies_df[1:]"
   ]
  },
  {
   "cell_type": "code",
   "execution_count": 184,
   "metadata": {},
   "outputs": [
    {
     "data": {
      "text/html": [
       "<div>\n",
       "<style scoped>\n",
       "    .dataframe tbody tr th:only-of-type {\n",
       "        vertical-align: middle;\n",
       "    }\n",
       "\n",
       "    .dataframe tbody tr th {\n",
       "        vertical-align: top;\n",
       "    }\n",
       "\n",
       "    .dataframe thead th {\n",
       "        text-align: right;\n",
       "    }\n",
       "</style>\n",
       "<table border=\"1\" class=\"dataframe\">\n",
       "  <thead>\n",
       "    <tr style=\"text-align: right;\">\n",
       "      <th></th>\n",
       "      <th>Actual_usage</th>\n",
       "      <th>Forecast_usage</th>\n",
       "    </tr>\n",
       "  </thead>\n",
       "  <tbody>\n",
       "    <tr>\n",
       "      <th>1</th>\n",
       "      <td>2153</td>\n",
       "      <td>2016.0</td>\n",
       "    </tr>\n",
       "    <tr>\n",
       "      <th>2</th>\n",
       "      <td>4211</td>\n",
       "      <td>2153.0</td>\n",
       "    </tr>\n",
       "    <tr>\n",
       "      <th>3</th>\n",
       "      <td>2448</td>\n",
       "      <td>4211.0</td>\n",
       "    </tr>\n",
       "    <tr>\n",
       "      <th>4</th>\n",
       "      <td>3216</td>\n",
       "      <td>2448.0</td>\n",
       "    </tr>\n",
       "    <tr>\n",
       "      <th>5</th>\n",
       "      <td>2210</td>\n",
       "      <td>3216.0</td>\n",
       "    </tr>\n",
       "  </tbody>\n",
       "</table>\n",
       "</div>"
      ],
      "text/plain": [
       "   Actual_usage  Forecast_usage\n",
       "1          2153          2016.0\n",
       "2          4211          2153.0\n",
       "3          2448          4211.0\n",
       "4          3216          2448.0\n",
       "5          2210          3216.0"
      ]
     },
     "execution_count": 184,
     "metadata": {},
     "output_type": "execute_result"
    }
   ],
   "source": [
    "supplies_test.head()"
   ]
  },
  {
   "cell_type": "code",
   "execution_count": 185,
   "metadata": {},
   "outputs": [],
   "source": [
    "supplies_error = mean_squared_error(supplies_test.Actual_usage, supplies_test.Forecast_usage)"
   ]
  },
  {
   "cell_type": "code",
   "execution_count": 186,
   "metadata": {},
   "outputs": [
    {
     "data": {
      "text/plain": [
       "1271692.416458229"
      ]
     },
     "execution_count": 186,
     "metadata": {},
     "output_type": "execute_result"
    }
   ],
   "source": [
    "supplies_error"
   ]
  },
  {
   "cell_type": "code",
   "execution_count": 187,
   "metadata": {},
   "outputs": [
    {
     "data": {
      "text/plain": [
       "1127.6934053448344"
      ]
     },
     "execution_count": 187,
     "metadata": {},
     "output_type": "execute_result"
    }
   ],
   "source": [
    "np.sqrt(supplies_error)"
   ]
  },
  {
   "cell_type": "code",
   "execution_count": 188,
   "metadata": {},
   "outputs": [
    {
     "data": {
      "image/png": "[encoded data removed]",
      "text/plain": [
       "<Figure size 432x288 with 1 Axes>"
      ]
     },
     "execution_count": 188,
     "metadata": {},
     "output_type": "execute_result"
    },
    {
     "data": {
      "image/png": "[encoded data removed]",
      "text/plain": [
       "<Figure size 432x288 with 1 Axes>"
      ]
     },
     "metadata": {
      "needs_background": "light"
     },
     "output_type": "display_data"
    }
   ],
   "source": [
    "# plot_acf is to identify parameter Q\n",
    "# ARIMA(p, d, q)\n",
    "\n",
    "plot_acf(f_supplies)"
   ]
  },
  {
   "cell_type": "code",
   "execution_count": 189,
   "metadata": {},
   "outputs": [
    {
     "data": {
      "image/png": "[encoded data removed]",
      "text/plain": [
       "<Figure size 432x288 with 1 Axes>"
      ]
     },
     "execution_count": 189,
     "metadata": {},
     "output_type": "execute_result"
    },
    {
     "data": {
      "image/png": "[encoded data removed]",
      "text/plain": [
       "<Figure size 432x288 with 1 Axes>"
      ]
     },
     "metadata": {
      "needs_background": "light"
     },
     "output_type": "display_data"
    }
   ],
   "source": [
    "# to identify the value of p\n",
    "\n",
    "plot_pacf(f_supplies)"
   ]
  },
  {
   "cell_type": "code",
   "execution_count": 190,
   "metadata": {},
   "outputs": [
    {
     "data": {
      "text/plain": [
       "3999"
      ]
     },
     "execution_count": 190,
     "metadata": {},
     "output_type": "execute_result"
    }
   ],
   "source": [
    "f_supplies.size"
   ]
  },
  {
   "cell_type": "code",
   "execution_count": 221,
   "metadata": {},
   "outputs": [],
   "source": [
    "supplies_train, supplies_test = np.split(f_supplies, [int(.75*len(f_supplies))])"
   ]
  },
  {
   "cell_type": "code",
   "execution_count": 225,
   "metadata": {},
   "outputs": [
    {
     "data": {
      "text/plain": [
       "2999"
      ]
     },
     "execution_count": 225,
     "metadata": {},
     "output_type": "execute_result"
    }
   ],
   "source": [
    "supplies_train.size"
   ]
  },
  {
   "cell_type": "code",
   "execution_count": 226,
   "metadata": {},
   "outputs": [],
   "source": [
    "# p=2,3 d=0 q=3,4\n"
   ]
  },
  {
   "cell_type": "code",
   "execution_count": 192,
   "metadata": {},
   "outputs": [
    {
     "data": {
      "text/plain": [
       "999"
      ]
     },
     "execution_count": 192,
     "metadata": {},
     "output_type": "execute_result"
    }
   ],
   "source": [
    "supplies_test.size"
   ]
  },
  {
   "cell_type": "code",
   "execution_count": 193,
   "metadata": {},
   "outputs": [
    {
     "name": "stderr",
     "output_type": "stream",
     "text": [
      "C:\\Users\\Piyumal\\anaconda3\\envs\\py38\\lib\\site-packages\\statsmodels\\tsa\\base\\tsa_model.py:159: ValueWarning: No frequency information was provided, so inferred frequency D will be used.\n",
      "  warnings.warn('No frequency information was'\n"
     ]
    }
   ],
   "source": [
    "supplies_model = ARIMA(supplies_train, order=(3, 0, 3))"
   ]
  },
  {
   "cell_type": "code",
   "execution_count": 194,
   "metadata": {},
   "outputs": [],
   "source": [
    "supplies_model_fit = supplies_model.fit()"
   ]
  },
  {
   "cell_type": "code",
   "execution_count": 195,
   "metadata": {},
   "outputs": [
    {
     "data": {
      "text/plain": [
       "48795.469851449016"
      ]
     },
     "execution_count": 195,
     "metadata": {},
     "output_type": "execute_result"
    }
   ],
   "source": [
    "supplies_model_fit.aic"
   ]
  },
  {
   "cell_type": "code",
   "execution_count": 196,
   "metadata": {},
   "outputs": [],
   "source": [
    "supplies_forecast = supplies_model_fit.forecast(steps = 999)[0]"
   ]
  },
  {
   "cell_type": "code",
   "execution_count": 197,
   "metadata": {},
   "outputs": [
    {
     "data": {
      "text/plain": [
       "array([2851.68571984, 2880.67288888, 2859.25557891, 2885.36092418,\n",
       "       2863.97747012, 2888.64056462, 2867.93305745, 2891.52446898,\n",
       "       2871.61752045, 2894.2538516 , 2875.15082099, 2896.8874717 ,\n",
       "       2878.56410821, 2899.44090015, 2881.86744154, 2901.91945   ,\n",
       "       2885.0658066 , 2904.32596408, 2888.16290501, 2906.66265752,\n",
       "       2891.16205327, 2908.93155453, 2894.06639793, 2911.13459282,\n",
       "       2896.87896904, 2913.27364935, 2899.60269537, 2915.35054751,\n",
       "       2902.24041032, 2917.3670598 , 2904.79485571, 2919.32490951,\n",
       "       2907.26868494, 2921.22577212, 2909.66446585, 2923.07127655,\n",
       "       2911.98468361, 2924.86300639, 2914.23174335, 2926.60250116,\n",
       "       2916.4079728 , 2928.29125745, 2918.51562482, 2929.93073005,\n",
       "       2920.55687982, 2931.52233313, 2922.53384814, 2933.06744126,\n",
       "       2924.4485723 , 2934.56739053, 2926.30302926, 2936.02347955,\n",
       "       2928.0991325 , 2937.4369705 , 2929.8387341 , 2938.80909007,\n",
       "       2931.52362675, 2940.14103044, 2933.15554566, 2941.43395023,\n",
       "       2934.73617044, 2942.68897539, 2936.2671269 , 2943.90720012,\n",
       "       2937.74998877, 2945.08968768, 2939.18627944, 2946.23747129,\n",
       "       2940.57747353, 2947.35155494, 2941.92499852, 2948.43291416,\n",
       "       2943.23023625, 2949.48249682, 2944.4945244 , 2950.50122392,\n",
       "       2945.71915792, 2951.48999028, 2946.90539041, 2952.44966526,\n",
       "       2948.05443545, 2953.38109353, 2949.16746792, 2954.28509566,\n",
       "       2950.2456252 , 2955.16246887, 2951.29000843, 2956.01398761,\n",
       "       2952.30168363, 2956.84040422, 2953.2816829 , 2957.64244957,\n",
       "       2954.23100542, 2958.42083361, 2955.15061861, 2959.17624597,\n",
       "       2956.04145907, 2959.90935653, 2956.90443361, 2960.62081599,\n",
       "       2957.74042021, 2961.31125635, 2958.55026894, 2961.9812915 ,\n",
       "       2959.33480286, 2962.63151769, 2960.09481887, 2963.262514  ,\n",
       "       2960.83108858, 2963.8748429 , 2961.5443591 , 2964.46905063,\n",
       "       2962.23535383, 2965.0456677 , 2962.90477322, 2965.60520934,\n",
       "       2963.5532955 , 2966.14817591, 2964.18157744, 2966.67505334,\n",
       "       2964.79025494, 2967.18631349, 2965.37994379, 2967.68241463,\n",
       "       2965.95124027, 2968.16380173, 2966.50472178, 2968.63090691,\n",
       "       2967.04094746, 2969.08414977, 2967.56045874, 2969.52393775,\n",
       "       2968.06377994, 2969.95066649, 2968.5514188 , 2970.36472014,\n",
       "       2969.023867  , 2970.7664717 , 2969.48160069, 2971.15628334,\n",
       "       2969.92508099, 2971.5345067 , 2970.35475445, 2971.90148321,\n",
       "       2970.77105352, 2972.25754436, 2971.17439701, 2972.60301198,\n",
       "       2971.56519051, 2972.93819854, 2971.94382682, 2973.26340741,\n",
       "       2972.31068636, 2973.5789331 , 2972.66613756, 2973.88506153,\n",
       "       2973.01053722, 2974.1820703 , 2973.34423092, 2974.47022887,\n",
       "       2973.66755335, 2974.74979885, 2973.98082867, 2975.0210342 ,\n",
       "       2974.28437083, 2975.28418145, 2974.5784839 , 2975.53947993,\n",
       "       2974.86346239, 2975.78716195, 2975.13959153, 2976.02745301,\n",
       "       2975.40714761, 2976.26057204, 2975.66639822, 2976.4867315 ,\n",
       "       2975.91760255, 2976.70613767, 2976.16101163, 2976.91899076,\n",
       "       2976.39686863, 2977.12548508, 2976.62540906, 2977.32580928,\n",
       "       2976.84686107, 2977.52014644, 2977.06144561, 2977.70867425,\n",
       "       2977.26937673, 2977.89156521, 2977.47086175, 2978.06898671,\n",
       "       2977.66610151, 2978.24110125, 2977.85529052, 2978.40806652,\n",
       "       2978.03861722, 2978.57003558, 2978.21626414, 2978.72715698,\n",
       "       2978.38840809, 2978.87957489, 2978.55522034, 2979.02742923,\n",
       "       2978.7168668 , 2979.17085578, 2978.87350819, 2979.30998635,\n",
       "       2979.02530019, 2979.44494883, 2979.17239363, 2979.57586734,\n",
       "       2979.3149346 , 2979.70286233, 2979.45306463, 2979.82605071,\n",
       "       2979.58692082, 2979.94554593, 2979.716636  , 2980.06145805,\n",
       "       2979.84233884, 2980.17389394, 2979.96415397, 2980.28295724,\n",
       "       2980.08220216, 2980.38874858, 2980.19660039, 2980.49136557,\n",
       "       2980.30746199, 2980.59090295, 2980.41489676, 2980.68745265,\n",
       "       2980.51901105, 2980.78110387, 2980.61990792, 2980.87194318,\n",
       "       2980.7176872 , 2980.96005457, 2980.81244561, 2981.04551954,\n",
       "       2980.90427685, 2981.12841718, 2980.9932717 , 2981.20882422,\n",
       "       2981.07951812, 2981.28681513, 2981.16310131, 2981.36246215,\n",
       "       2981.24410384, 2981.43583539, 2981.32260568, 2981.50700286,\n",
       "       2981.39868433, 2981.57603057, 2981.47241488, 2981.64298255,\n",
       "       2981.54387005, 2981.70792093, 2981.61312034, 2981.77090599,\n",
       "       2981.68023402, 2981.83199624, 2981.74527726, 2981.8912484 ,\n",
       "       2981.80831416, 2981.94871756, 2981.86940683, 2982.00445712,\n",
       "       2981.92861544, 2982.05851892, 2981.98599831, 2982.11095324,\n",
       "       2982.04161192, 2982.16180887, 2982.09551101, 2982.21113315,\n",
       "       2982.14774862, 2982.25897199, 2982.19837614, 2982.30536995,\n",
       "       2982.24744337, 2982.35037025, 2982.29499854, 2982.39401483,\n",
       "       2982.34108841, 2982.43634437, 2982.38575827, 2982.47739834,\n",
       "       2982.42905201, 2982.51721502, 2982.47101217, 2982.55583157,\n",
       "       2982.51167995, 2982.59328403, 2982.55109528, 2982.62960735,\n",
       "       2982.58929685, 2982.66483545, 2982.62632216, 2982.69900123,\n",
       "       2982.66220753, 2982.73213661, 2982.69698817, 2982.76427257,\n",
       "       2982.73069819, 2982.79543912, 2982.76337063, 2982.82566543,\n",
       "       2982.79503754, 2982.85497974, 2982.82572994, 2982.88340949,\n",
       "       2982.85547792, 2982.91098128, 2982.88431061, 2982.93772092,\n",
       "       2982.91225626, 2982.96365343, 2982.93934224, 2982.98880309,\n",
       "       2982.96559505, 2983.01319348, 2982.99104041, 2983.03684742,\n",
       "       2983.01570322, 2983.0597871 , 2983.0396076 , 2983.08203401,\n",
       "       2983.06277694, 2983.10360901, 2983.08523391, 2983.12453232,\n",
       "       2983.10700046, 2983.14482358, 2983.12809788, 2983.16450181,\n",
       "       2983.14854678, 2983.1835855 , 2983.16836716, 2983.20209253,\n",
       "       2983.18757839, 2983.2200403 , 2983.20619922, 2983.23744565,\n",
       "       2983.22424785, 2983.25432493, 2983.24174191, 2983.27069399,\n",
       "       2983.25869848, 2983.28656821, 2983.2751341 , 2983.30196251,\n",
       "       2983.29106483, 2983.31689137, 2983.30650622, 2983.33136881,\n",
       "       2983.32147332, 2983.34540845, 2983.33598074, 2983.35902349,\n",
       "       2983.35004263, 2983.37222675, 2983.3636727 , 2983.38503064,\n",
       "       2983.37688425, 2983.39744721, 2983.38969015, 2983.40948815,\n",
       "       2983.40210289, 2983.42116479, 2983.41413456, 2983.43248814,\n",
       "       2983.42579689, 2983.44346884, 2983.43710125, 2983.45411726,\n",
       "       2983.44805863, 2983.46444341, 2983.45867972, 2983.47445702,\n",
       "       2983.46897485, 2983.48416754, 2983.47895406, 2983.49358412,\n",
       "       2983.48862705, 2983.50271563, 2983.49800325, 2983.51157069,\n",
       "       2983.50709177, 2983.52015764, 2983.51590146, 2983.52848459,\n",
       "       2983.5244409 , 2983.53655939, 2983.53271838, 2983.54438965,\n",
       "       2983.54074196, 2983.55198278, 2983.54851945, 2983.55934593,\n",
       "       2983.5560584 , 2983.56648606, 2983.56336615, 2983.5734099 ,\n",
       "       2983.57044979, 2983.58012399, 2983.57731622, 2983.58663469,\n",
       "       2983.58397211, 2983.59294812, 2983.59042392, 2983.59907027,\n",
       "       2983.59667793, 2983.60500691, 2983.6027402 , 2983.61076366,\n",
       "       2983.60861663, 2983.61634595, 2983.61431293, 2983.62175906,\n",
       "       2983.61983462, 2983.62700811, 2983.62518707, 2983.63209806,\n",
       "       2983.63037547, 2983.63703373, 2983.63540486, 2983.64181978,\n",
       "       2983.64028012, 2983.64646074, 2983.64500598, 2983.65096101,\n",
       "       2983.64958703, 2983.65532483, 2983.65402771, 2983.65955634,\n",
       "       2983.65833233, 2983.66365954, 2983.66250507, 2983.66763832,\n",
       "       2983.66654997, 2983.67149644, 2983.67047095, 2983.67523756,\n",
       "       2983.67427183, 2983.67886521, 2983.67795627, 2983.68238284,\n",
       "       2983.68152786, 2983.68579378, 2983.68499005, 2983.68910125,\n",
       "       2983.68834621, 2983.69230839, 2983.69159958, 2983.69541824,\n",
       "       2983.69475332, 2983.69843375, 2983.69781048, 2983.70135777,\n",
       "       2983.70077402, 2983.70419307, 2983.70364682, 2983.70694234,\n",
       "       2983.70643165, 2983.70960819, 2983.70913122, 2983.71219315,\n",
       "       2983.71174814, 2983.71469967, 2983.71428494, 2983.71713011,\n",
       "       2983.71674408, 2983.7194868 , 2983.71912794, 2983.72177196,\n",
       "       2983.72143883, 2983.72398776, 2983.72367898, 2983.72613631,\n",
       "       2983.72585056, 2983.72821964, 2983.72795567, 2983.73023973,\n",
       "       2983.72999636, 2983.7321985 , 2983.73197459, 2983.7340978 ,\n",
       "       2983.73389228, 2983.73593944, 2983.73575128, 2983.73772517,\n",
       "       2983.73755339, 2983.73945667, 2983.73930036, 2983.74113561,\n",
       "       2983.74099387, 2983.74276357, 2983.74263557, 2983.74434209,\n",
       "       2983.74422703, 2983.74587268, 2983.7457698 , 2983.74735678,\n",
       "       2983.74726538, 2983.74879582, 2983.74871519, 2983.75019115,\n",
       "       2983.75012066, 2983.75154411, 2983.75148312, 2983.75285597,\n",
       "       2983.75280391, 2983.75412799, 2983.7540843 , 2983.75536136,\n",
       "       2983.75532552, 2983.75655728, 2983.75652878, 2983.75771687,\n",
       "       2983.75769524, 2983.75884123, 2983.75882602, 2983.75993143,\n",
       "       2983.75992221, 2983.76098852, 2983.76098488, 2983.76201348,\n",
       "       2983.76201505, 2983.76300731, 2983.76301372, 2983.76397094,\n",
       "       2983.76398185, 2983.7649053 , 2983.76492037, 2983.76581126,\n",
       "       2983.7658302 , 2983.7666897 , 2983.7667122 , 2983.76754144,\n",
       "       2983.76756724, 2983.7683673 , 2983.76839613, 2983.76916806,\n",
       "       2983.76919968, 2983.76994448, 2983.76997867, 2983.77069732,\n",
       "       2983.77073383, 2983.77142727, 2983.77146591, 2983.77213503,\n",
       "       2983.77217561, 2983.77282129, 2983.77286362, 2983.77348668,\n",
       "       2983.77353059, 2983.77413185, 2983.77417718, 2983.77475741,\n",
       "       2983.774804  , 2983.77536396, 2983.77541166, 2983.77595206,\n",
       "       2983.77600075, 2983.77652229, 2983.77657183, 2983.77707519,\n",
       "       2983.77712545, 2983.77761127, 2983.77766216, 2983.77813106,\n",
       "       2983.77818246, 2983.77863505, 2983.77868687, 2983.77912371,\n",
       "       2983.77917585, 2983.77959752, 2983.7796499 , 2983.78005692,\n",
       "       2983.78010945, 2983.78050235, 2983.78055497, 2983.78093424,\n",
       "       2983.78098687, 2983.78135299, 2983.78140557, 2983.78175902,\n",
       "       2983.78181148, 2983.78215269, 2983.78220498, 2983.7825344 ,\n",
       "       2983.78258646, 2983.78290449, 2983.78295629, 2983.78326333,\n",
       "       2983.78331481, 2983.78361126, 2983.78366239, 2983.78394861,\n",
       "       2983.78399934, 2983.7842757 , 2983.784326  , 2983.78459284,\n",
       "       2983.78464268, 2983.78490033, 2983.78494968, 2983.78519848,\n",
       "       2983.78524731, 2983.78548755, 2983.78553584, 2983.78576783,\n",
       "       2983.78581556, 2983.78603959, 2983.78608673, 2983.78630308,\n",
       "       2983.78634962, 2983.78655855, 2983.78660448, 2983.78680626,\n",
       "       2983.78685156, 2983.78704642, 2983.78709109, 2983.78727929,\n",
       "       2983.7873233 , 2983.78750507, 2983.78754842, 2983.78772398,\n",
       "       2983.78776667, 2983.78793623, 2983.78797824, 2983.78814202,\n",
       "       2983.78818336, 2983.78834155, 2983.78838221, 2983.78853501,\n",
       "       2983.78857499, 2983.78872259, 2983.78876188, 2983.78890446,\n",
       "       2983.78894307, 2983.78908079, 2983.78911872, 2983.78925176,\n",
       "       2983.789289  , 2983.78941753, 2983.78945409, 2983.78957826,\n",
       "       2983.78961413, 2983.78973409, 2983.78976929, 2983.78988518,\n",
       "       2983.78991971, 2983.79003168, 2983.79006554, 2983.79017371,\n",
       "       2983.79020691, 2983.79031143, 2983.79034397, 2983.79044495,\n",
       "       2983.79047684, 2983.79057441, 2983.79060566, 2983.79069993,\n",
       "       2983.79073054, 2983.79082163, 2983.79085161, 2983.79093963,\n",
       "       2983.79096898, 2983.79105404, 2983.79108277, 2983.79116496,\n",
       "       2983.79119308, 2983.79127251, 2983.79130003, 2983.79137679,\n",
       "       2983.79140371, 2983.79147789, 2983.79150423, 2983.79157591,\n",
       "       2983.79160167, 2983.79167095, 2983.79169615, 2983.7917631 ,\n",
       "       2983.79178773, 2983.79185245, 2983.79187653, 2983.79193907,\n",
       "       2983.79196261, 2983.79202306, 2983.79204606, 2983.79210449,\n",
       "       2983.79212697, 2983.79218344, 2983.7922054 , 2983.79225999,\n",
       "       2983.79228145, 2983.79233421, 2983.79235517, 2983.79240617,\n",
       "       2983.79242664, 2983.79247594, 2983.79249593, 2983.79254358,\n",
       "       2983.7925631 , 2983.79260917, 2983.79262823, 2983.79267276,\n",
       "       2983.79269136, 2983.79273441, 2983.79275257, 2983.79279419,\n",
       "       2983.79281191, 2983.79285215, 2983.79286944, 2983.79290834,\n",
       "       2983.79292521, 2983.79296282, 2983.79297929, 2983.79301565,\n",
       "       2983.79303171, 2983.79306686, 2983.79308253, 2983.79311652,\n",
       "       2983.7931318 , 2983.79316466, 2983.79317956, 2983.79321134,\n",
       "       2983.79322587, 2983.7932566 , 2983.79327077, 2983.79330048,\n",
       "       2983.79331429, 2983.79334302, 2983.79335649, 2983.79338427,\n",
       "       2983.7933974 , 2983.79342426, 2983.79343706, 2983.79346303,\n",
       "       2983.79347551, 2983.79350063, 2983.79351279, 2983.79353708,\n",
       "       2983.79354892, 2983.79357242, 2983.79358396, 2983.79360668,\n",
       "       2983.79361793, 2983.7936399 , 2983.79365086, 2983.79367211,\n",
       "       2983.79368278, 2983.79370333, 2983.79371374, 2983.79373361,\n",
       "       2983.79374374, 2983.79376297, 2983.79377284, 2983.79379143,\n",
       "       2983.79380104, 2983.79381902, 2983.79382838, 2983.79384577,\n",
       "       2983.79385489, 2983.79387171, 2983.79388059, 2983.79389686,\n",
       "       2983.79390551, 2983.79392125, 2983.79392966, 2983.79394489,\n",
       "       2983.79395308, 2983.79396781, 2983.79397578, 2983.79399003,\n",
       "       2983.7939978 , 2983.79401158, 2983.79401914, 2983.79403247,\n",
       "       2983.79403982, 2983.79405272, 2983.79405988, 2983.79407236,\n",
       "       2983.79407933, 2983.7940914 , 2983.79409818, 2983.79410986,\n",
       "       2983.79411646, 2983.79412775, 2983.79413418, 2983.7941451 ,\n",
       "       2983.79415135, 2983.79416193, 2983.79416801, 2983.79417824,\n",
       "       2983.79418415, 2983.79419405, 2983.79419981, 2983.79420939,\n",
       "       2983.79421499, 2983.79422425, 2983.7942297 , 2983.79423866,\n",
       "       2983.79424396, 2983.79425264, 2983.79425779, 2983.79426619,\n",
       "       2983.7942712 , 2983.79427932, 2983.7942842 , 2983.79429206,\n",
       "       2983.7942968 , 2983.7943044 , 2983.79430902, 2983.79431637,\n",
       "       2983.79432086, 2983.79432798, 2983.79433234, 2983.79433923,\n",
       "       2983.79434348, 2983.79435015, 2983.79435427, 2983.79436072,\n",
       "       2983.79436474, 2983.79437098, 2983.79437488, 2983.79438092,\n",
       "       2983.79438472, 2983.79439056, 2983.79439425, 2983.79439991,\n",
       "       2983.7944035 , 2983.79440897, 2983.79441246, 2983.79441776,\n",
       "       2983.79442115, 2983.79442628, 2983.79442957, 2983.79443454,\n",
       "       2983.79443774, 2983.79444254, 2983.79444566, 2983.79445031,\n",
       "       2983.79445333, 2983.79445783, 2983.79446078, 2983.79446513,\n",
       "       2983.79446799, 2983.79447221, 2983.79447499, 2983.79447907,\n",
       "       2983.79448177, 2983.79448572, 2983.79448834, 2983.79449217,\n",
       "       2983.79449472, 2983.79449842, 2983.7945009 , 2983.79450448,\n",
       "       2983.79450689, 2983.79451036, 2983.7945127 , 2983.79451605,\n",
       "       2983.79451833, 2983.79452158, 2983.79452379, 2983.79452693,\n",
       "       2983.79452908, 2983.79453213, 2983.79453421, 2983.79453716,\n",
       "       2983.79453919, 2983.79454204, 2983.79454401, 2983.79454678,\n",
       "       2983.79454869, 2983.79455136, 2983.79455322, 2983.79455581,\n",
       "       2983.79455762, 2983.79456013, 2983.79456188, 2983.79456431,\n",
       "       2983.79456601, 2983.79456836, 2983.79457002, 2983.79457229,\n",
       "       2983.7945739 , 2983.7945761 , 2983.79457767, 2983.7945798 ,\n",
       "       2983.79458132, 2983.79458338, 2983.79458485, 2983.79458685,\n",
       "       2983.79458829, 2983.79459022, 2983.79459161, 2983.79459348,\n",
       "       2983.79459484, 2983.79459665, 2983.79459796, 2983.79459972,\n",
       "       2983.79460099, 2983.79460269, 2983.79460393, 2983.79460558,\n",
       "       2983.79460678, 2983.79460838, 2983.79460954, 2983.79461109,\n",
       "       2983.79461222, 2983.79461372, 2983.79461482, 2983.79461626,\n",
       "       2983.79461733, 2983.79461874, 2983.79461977, 2983.79462113,\n",
       "       2983.79462214, 2983.79462345, 2983.79462443, 2983.79462571,\n",
       "       2983.79462666, 2983.79462789, 2983.79462881, 2983.79463001,\n",
       "       2983.7946309 , 2983.79463206, 2983.79463293, 2983.79463405,\n",
       "       2983.79463489, 2983.79463598, 2983.7946368 , 2983.79463785,\n",
       "       2983.79463865, 2983.79463966, 2983.79464044, 2983.79464142,\n",
       "       2983.79464217, 2983.79464313, 2983.79464385, 2983.79464478,\n",
       "       2983.79464549, 2983.79464638, 2983.79464707, 2983.79464793,\n",
       "       2983.7946486 , 2983.79464944, 2983.79465009, 2983.7946509 ,\n",
       "       2983.79465153, 2983.79465232, 2983.79465293, 2983.79465369,\n",
       "       2983.79465428, 2983.79465502, 2983.7946556 , 2983.79465631,\n",
       "       2983.79465687, 2983.79465756, 2983.7946581 , 2983.79465877,\n",
       "       2983.7946593 , 2983.79465995, 2983.79466046, 2983.79466109,\n",
       "       2983.79466159, 2983.79466219, 2983.79466268, 2983.79466327,\n",
       "       2983.79466373, 2983.79466431, 2983.79466476, 2983.79466531,\n",
       "       2983.79466575, 2983.79466629, 2983.79466672, 2983.79466724,\n",
       "       2983.79466765, 2983.79466815, 2983.79466856, 2983.79466904,\n",
       "       2983.79466944, 2983.79466991, 2983.79467029, 2983.79467074,\n",
       "       2983.79467111, 2983.79467155, 2983.79467191, 2983.79467234,\n",
       "       2983.79467269, 2983.7946731 , 2983.79467344, 2983.79467384,\n",
       "       2983.79467417, 2983.79467456, 2983.79467488])"
      ]
     },
     "execution_count": 197,
     "metadata": {},
     "output_type": "execute_result"
    }
   ],
   "source": [
    "supplies_forecast"
   ]
  },
  {
   "cell_type": "code",
   "execution_count": 198,
   "metadata": {},
   "outputs": [
    {
     "data": {
      "text/html": [
       "<div>\n",
       "<style scoped>\n",
       "    .dataframe tbody tr th:only-of-type {\n",
       "        vertical-align: middle;\n",
       "    }\n",
       "\n",
       "    .dataframe tbody tr th {\n",
       "        vertical-align: top;\n",
       "    }\n",
       "\n",
       "    .dataframe thead th {\n",
       "        text-align: right;\n",
       "    }\n",
       "</style>\n",
       "<table border=\"1\" class=\"dataframe\">\n",
       "  <thead>\n",
       "    <tr style=\"text-align: right;\">\n",
       "      <th></th>\n",
       "      <th>supplies</th>\n",
       "    </tr>\n",
       "    <tr>\n",
       "      <th>date</th>\n",
       "      <th></th>\n",
       "    </tr>\n",
       "  </thead>\n",
       "  <tbody>\n",
       "    <tr>\n",
       "      <th>2017-10-06</th>\n",
       "      <td>2216</td>\n",
       "    </tr>\n",
       "    <tr>\n",
       "      <th>2017-10-07</th>\n",
       "      <td>2529</td>\n",
       "    </tr>\n",
       "    <tr>\n",
       "      <th>2017-10-08</th>\n",
       "      <td>2478</td>\n",
       "    </tr>\n",
       "    <tr>\n",
       "      <th>2017-10-09</th>\n",
       "      <td>2560</td>\n",
       "    </tr>\n",
       "    <tr>\n",
       "      <th>2017-10-10</th>\n",
       "      <td>3805</td>\n",
       "    </tr>\n",
       "    <tr>\n",
       "      <th>...</th>\n",
       "      <td>...</td>\n",
       "    </tr>\n",
       "    <tr>\n",
       "      <th>2020-06-26</th>\n",
       "      <td>3064</td>\n",
       "    </tr>\n",
       "    <tr>\n",
       "      <th>2020-06-27</th>\n",
       "      <td>4511</td>\n",
       "    </tr>\n",
       "    <tr>\n",
       "      <th>2020-06-28</th>\n",
       "      <td>2756</td>\n",
       "    </tr>\n",
       "    <tr>\n",
       "      <th>2020-06-29</th>\n",
       "      <td>4032</td>\n",
       "    </tr>\n",
       "    <tr>\n",
       "      <th>2020-06-30</th>\n",
       "      <td>2251</td>\n",
       "    </tr>\n",
       "  </tbody>\n",
       "</table>\n",
       "<p>999 rows × 1 columns</p>\n",
       "</div>"
      ],
      "text/plain": [
       "            supplies\n",
       "date                \n",
       "2017-10-06      2216\n",
       "2017-10-07      2529\n",
       "2017-10-08      2478\n",
       "2017-10-09      2560\n",
       "2017-10-10      3805\n",
       "...              ...\n",
       "2020-06-26      3064\n",
       "2020-06-27      4511\n",
       "2020-06-28      2756\n",
       "2020-06-29      4032\n",
       "2020-06-30      2251\n",
       "\n",
       "[999 rows x 1 columns]"
      ]
     },
     "execution_count": 198,
     "metadata": {},
     "output_type": "execute_result"
    }
   ],
   "source": [
    "supplies_test"
   ]
  },
  {
   "cell_type": "code",
   "execution_count": 199,
   "metadata": {},
   "outputs": [
    {
     "data": {
      "text/plain": [
       "821.0493261699487"
      ]
     },
     "execution_count": 199,
     "metadata": {},
     "output_type": "execute_result"
    }
   ],
   "source": [
    "np.sqrt(mean_squared_error(supplies_test, supplies_forecast))"
   ]
  },
  {
   "cell_type": "code",
   "execution_count": 42,
   "metadata": {},
   "outputs": [],
   "source": [
    "# saving model to disk\n",
    "\n",
    "#pickle.dump([supplies_model_fit, supplies_forecast], open('model.pkl', 'wb'))\n",
    "\n",
    "with open('model.pickle', 'wb') as f:\n",
    "    pickle.dump([supplies_test, supplies_forecast, supplies_model_fit], f)"
   ]
  },
  {
   "cell_type": "code",
   "execution_count": 200,
   "metadata": {},
   "outputs": [
    {
     "data": {
      "text/plain": [
       "[<matplotlib.lines.Line2D at 0x19403168580>]"
      ]
     },
     "execution_count": 200,
     "metadata": {},
     "output_type": "execute_result"
    },
    {
     "data": {
      "image/png": "[encoded data removed]",
      "text/plain": [
       "<Figure size 432x288 with 1 Axes>"
      ]
     },
     "metadata": {
      "needs_background": "light"
     },
     "output_type": "display_data"
    }
   ],
   "source": [
    "plt.plot(supplies_forecast)"
   ]
  },
  {
   "cell_type": "code",
   "execution_count": 201,
   "metadata": {},
   "outputs": [
    {
     "data": {
      "text/plain": [
       "[<matplotlib.lines.Line2D at 0x19404017d90>]"
      ]
     },
     "execution_count": 201,
     "metadata": {},
     "output_type": "execute_result"
    },
    {
     "data": {
      "image/png": "[encoded data removed]",
      "text/plain": [
       "<Figure size 432x288 with 1 Axes>"
      ]
     },
     "metadata": {
      "needs_background": "light"
     },
     "output_type": "display_data"
    }
   ],
   "source": [
    "plt.plot(supplies_test)"
   ]
  },
  {
   "cell_type": "code",
   "execution_count": null,
   "metadata": {},
   "outputs": [],
   "source": []
  }
 ],
 "metadata": {
  "kernelspec": {
   "display_name": "Python 3",
   "language": "python",
   "name": "python3"
  },
  "language_info": {
   "codemirror_mode": {
    "name": "ipython",
    "version": 3
   },
   "file_extension": ".py",
   "mimetype": "text/x-python",
   "name": "python",
   "nbconvert_exporter": "python",
   "pygments_lexer": "ipython3",
   "version": "3.8.3"
  }
 },
 "nbformat": 4,
 "nbformat_minor": 4
}
