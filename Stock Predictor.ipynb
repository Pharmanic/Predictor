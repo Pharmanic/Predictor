{
 "cells": [
  {
   "cell_type": "code",
   "execution_count": 80,
   "metadata": {},
   "outputs": [],
   "source": [
    "import pandas as pd\n",
    "import matplotlib.pyplot as plt\n",
    "%matplotlib inline\n",
    "from sklearn.metrics import mean_squared_error\n",
    "import numpy as np\n",
    "from statsmodels.graphics.tsaplots import plot_acf, plot_pacf\n",
    "from statsmodels.tsa.arima_model import ARIMA\n",
    "import pickle"
   ]
  },
  {
   "cell_type": "code",
   "execution_count": 165,
   "metadata": {},
   "outputs": [],
   "source": [
    "supplies = pd.read_csv('Supplies4.csv', parse_dates=[0], index_col=[0])"
   ]
  },
  {
   "cell_type": "code",
   "execution_count": 166,
   "metadata": {},
   "outputs": [
    {
     "data": {
      "text/html": [
       "<div>\n",
       "<style scoped>\n",
       "    .dataframe tbody tr th:only-of-type {\n",
       "        vertical-align: middle;\n",
       "    }\n",
       "\n",
       "    .dataframe tbody tr th {\n",
       "        vertical-align: top;\n",
       "    }\n",
       "\n",
       "    .dataframe thead th {\n",
       "        text-align: right;\n",
       "    }\n",
       "</style>\n",
       "<table border=\"1\" class=\"dataframe\">\n",
       "  <thead>\n",
       "    <tr style=\"text-align: right;\">\n",
       "      <th></th>\n",
       "      <th>supplies</th>\n",
       "    </tr>\n",
       "    <tr>\n",
       "      <th>date</th>\n",
       "      <th></th>\n",
       "    </tr>\n",
       "  </thead>\n",
       "  <tbody>\n",
       "    <tr>\n",
       "      <th>2009-07-20</th>\n",
       "      <td>2016</td>\n",
       "    </tr>\n",
       "    <tr>\n",
       "      <th>2009-07-21</th>\n",
       "      <td>2153</td>\n",
       "    </tr>\n",
       "    <tr>\n",
       "      <th>2009-07-22</th>\n",
       "      <td>4211</td>\n",
       "    </tr>\n",
       "    <tr>\n",
       "      <th>2009-07-23</th>\n",
       "      <td>2448</td>\n",
       "    </tr>\n",
       "    <tr>\n",
       "      <th>2009-07-24</th>\n",
       "      <td>3216</td>\n",
       "    </tr>\n",
       "  </tbody>\n",
       "</table>\n",
       "</div>"
      ],
      "text/plain": [
       "            supplies\n",
       "date                \n",
       "2009-07-20      2016\n",
       "2009-07-21      2153\n",
       "2009-07-22      4211\n",
       "2009-07-23      2448\n",
       "2009-07-24      3216"
      ]
     },
     "execution_count": 166,
     "metadata": {},
     "output_type": "execute_result"
    }
   ],
   "source": [
    "supplies.head()"
   ]
  },
  {
   "cell_type": "code",
   "execution_count": 167,
   "metadata": {},
   "outputs": [],
   "source": [
    "f_supplies = supplies.iloc[:, [0]]"
   ]
  },
  {
   "cell_type": "code",
   "execution_count": 168,
   "metadata": {},
   "outputs": [
    {
     "data": {
      "text/html": [
       "<div>\n",
       "<style scoped>\n",
       "    .dataframe tbody tr th:only-of-type {\n",
       "        vertical-align: middle;\n",
       "    }\n",
       "\n",
       "    .dataframe tbody tr th {\n",
       "        vertical-align: top;\n",
       "    }\n",
       "\n",
       "    .dataframe thead th {\n",
       "        text-align: right;\n",
       "    }\n",
       "</style>\n",
       "<table border=\"1\" class=\"dataframe\">\n",
       "  <thead>\n",
       "    <tr style=\"text-align: right;\">\n",
       "      <th></th>\n",
       "      <th>supplies</th>\n",
       "    </tr>\n",
       "    <tr>\n",
       "      <th>date</th>\n",
       "      <th></th>\n",
       "    </tr>\n",
       "  </thead>\n",
       "  <tbody>\n",
       "    <tr>\n",
       "      <th>2009-07-20</th>\n",
       "      <td>2016</td>\n",
       "    </tr>\n",
       "    <tr>\n",
       "      <th>2009-07-21</th>\n",
       "      <td>2153</td>\n",
       "    </tr>\n",
       "    <tr>\n",
       "      <th>2009-07-22</th>\n",
       "      <td>4211</td>\n",
       "    </tr>\n",
       "    <tr>\n",
       "      <th>2009-07-23</th>\n",
       "      <td>2448</td>\n",
       "    </tr>\n",
       "    <tr>\n",
       "      <th>2009-07-24</th>\n",
       "      <td>3216</td>\n",
       "    </tr>\n",
       "  </tbody>\n",
       "</table>\n",
       "</div>"
      ],
      "text/plain": [
       "            supplies\n",
       "date                \n",
       "2009-07-20      2016\n",
       "2009-07-21      2153\n",
       "2009-07-22      4211\n",
       "2009-07-23      2448\n",
       "2009-07-24      3216"
      ]
     },
     "execution_count": 168,
     "metadata": {},
     "output_type": "execute_result"
    }
   ],
   "source": [
    "f_supplies.head()"
   ]
  },
  {
   "cell_type": "code",
   "execution_count": 169,
   "metadata": {},
   "outputs": [
    {
     "data": {
      "text/plain": [
       "pandas.core.frame.DataFrame"
      ]
     },
     "execution_count": 169,
     "metadata": {},
     "output_type": "execute_result"
    }
   ],
   "source": [
    "type(f_supplies)"
   ]
  },
  {
   "cell_type": "code",
   "execution_count": 170,
   "metadata": {},
   "outputs": [],
   "source": [
    "series_value = f_supplies.values"
   ]
  },
  {
   "cell_type": "code",
   "execution_count": 171,
   "metadata": {},
   "outputs": [
    {
     "data": {
      "text/plain": [
       "numpy.ndarray"
      ]
     },
     "execution_count": 171,
     "metadata": {},
     "output_type": "execute_result"
    }
   ],
   "source": [
    "type(series_value)"
   ]
  },
  {
   "cell_type": "code",
   "execution_count": 172,
   "metadata": {},
   "outputs": [
    {
     "data": {
      "text/plain": [
       "3999"
      ]
     },
     "execution_count": 172,
     "metadata": {},
     "output_type": "execute_result"
    }
   ],
   "source": [
    "f_supplies.size"
   ]
  },
  {
   "cell_type": "code",
   "execution_count": 173,
   "metadata": {},
   "outputs": [
    {
     "data": {
      "text/html": [
       "<div>\n",
       "<style scoped>\n",
       "    .dataframe tbody tr th:only-of-type {\n",
       "        vertical-align: middle;\n",
       "    }\n",
       "\n",
       "    .dataframe tbody tr th {\n",
       "        vertical-align: top;\n",
       "    }\n",
       "\n",
       "    .dataframe thead th {\n",
       "        text-align: right;\n",
       "    }\n",
       "</style>\n",
       "<table border=\"1\" class=\"dataframe\">\n",
       "  <thead>\n",
       "    <tr style=\"text-align: right;\">\n",
       "      <th></th>\n",
       "      <th>supplies</th>\n",
       "    </tr>\n",
       "    <tr>\n",
       "      <th>date</th>\n",
       "      <th></th>\n",
       "    </tr>\n",
       "  </thead>\n",
       "  <tbody>\n",
       "    <tr>\n",
       "      <th>2020-06-26</th>\n",
       "      <td>3064</td>\n",
       "    </tr>\n",
       "    <tr>\n",
       "      <th>2020-06-27</th>\n",
       "      <td>4511</td>\n",
       "    </tr>\n",
       "    <tr>\n",
       "      <th>2020-06-28</th>\n",
       "      <td>2756</td>\n",
       "    </tr>\n",
       "    <tr>\n",
       "      <th>2020-06-29</th>\n",
       "      <td>4032</td>\n",
       "    </tr>\n",
       "    <tr>\n",
       "      <th>2020-06-30</th>\n",
       "      <td>2251</td>\n",
       "    </tr>\n",
       "  </tbody>\n",
       "</table>\n",
       "</div>"
      ],
      "text/plain": [
       "            supplies\n",
       "date                \n",
       "2020-06-26      3064\n",
       "2020-06-27      4511\n",
       "2020-06-28      2756\n",
       "2020-06-29      4032\n",
       "2020-06-30      2251"
      ]
     },
     "execution_count": 173,
     "metadata": {},
     "output_type": "execute_result"
    }
   ],
   "source": [
    "f_supplies.tail()"
   ]
  },
  {
   "cell_type": "code",
   "execution_count": 174,
   "metadata": {},
   "outputs": [
    {
     "data": {
      "text/html": [
       "<div>\n",
       "<style scoped>\n",
       "    .dataframe tbody tr th:only-of-type {\n",
       "        vertical-align: middle;\n",
       "    }\n",
       "\n",
       "    .dataframe tbody tr th {\n",
       "        vertical-align: top;\n",
       "    }\n",
       "\n",
       "    .dataframe thead th {\n",
       "        text-align: right;\n",
       "    }\n",
       "</style>\n",
       "<table border=\"1\" class=\"dataframe\">\n",
       "  <thead>\n",
       "    <tr style=\"text-align: right;\">\n",
       "      <th></th>\n",
       "      <th>supplies</th>\n",
       "    </tr>\n",
       "  </thead>\n",
       "  <tbody>\n",
       "    <tr>\n",
       "      <th>count</th>\n",
       "      <td>3999.000000</td>\n",
       "    </tr>\n",
       "    <tr>\n",
       "      <th>mean</th>\n",
       "      <td>2985.755939</td>\n",
       "    </tr>\n",
       "    <tr>\n",
       "      <th>std</th>\n",
       "      <td>844.878364</td>\n",
       "    </tr>\n",
       "    <tr>\n",
       "      <th>min</th>\n",
       "      <td>2000.000000</td>\n",
       "    </tr>\n",
       "    <tr>\n",
       "      <th>25%</th>\n",
       "      <td>2200.000000</td>\n",
       "    </tr>\n",
       "    <tr>\n",
       "      <th>50%</th>\n",
       "      <td>2768.000000</td>\n",
       "    </tr>\n",
       "    <tr>\n",
       "      <th>75%</th>\n",
       "      <td>3750.000000</td>\n",
       "    </tr>\n",
       "    <tr>\n",
       "      <th>max</th>\n",
       "      <td>4883.000000</td>\n",
       "    </tr>\n",
       "  </tbody>\n",
       "</table>\n",
       "</div>"
      ],
      "text/plain": [
       "          supplies\n",
       "count  3999.000000\n",
       "mean   2985.755939\n",
       "std     844.878364\n",
       "min    2000.000000\n",
       "25%    2200.000000\n",
       "50%    2768.000000\n",
       "75%    3750.000000\n",
       "max    4883.000000"
      ]
     },
     "execution_count": 174,
     "metadata": {},
     "output_type": "execute_result"
    }
   ],
   "source": [
    "f_supplies.describe()"
   ]
  },
  {
   "cell_type": "code",
   "execution_count": 175,
   "metadata": {},
   "outputs": [
    {
     "data": {
      "text/plain": [
       "<matplotlib.axes._subplots.AxesSubplot at 0x19401672e50>"
      ]
     },
     "execution_count": 175,
     "metadata": {},
     "output_type": "execute_result"
    },
    {
     "data": {
      "image/png": "[encoded data removed]",
      "text/plain": [
       "<Figure size 432x288 with 1 Axes>"
      ]
     },
     "metadata": {
      "needs_background": "light"
     },
     "output_type": "display_data"
    }
   ],
   "source": [
    "f_supplies.plot()"
   ]
  },
  {
   "cell_type": "code",
   "execution_count": 176,
   "metadata": {},
   "outputs": [],
   "source": [
    "f_supplies_mean = f_supplies.rolling(window = 50).mean()"
   ]
  },
  {
   "cell_type": "code",
   "execution_count": 177,
   "metadata": {},
   "outputs": [
    {
     "data": {
      "text/plain": [
       "<matplotlib.axes._subplots.AxesSubplot at 0x19401be1fd0>"
      ]
     },
     "execution_count": 177,
     "metadata": {},
     "output_type": "execute_result"
    },
    {
     "data": {
      "image/png": "[encoded data removed]",
      "text/plain": [
       "<Figure size 432x288 with 1 Axes>"
      ]
     },
     "metadata": {
      "needs_background": "light"
     },
     "output_type": "display_data"
    },
    {
     "data": {
      "image/png": "[encoded data removed]",
      "text/plain": [
       "<Figure size 432x288 with 1 Axes>"
      ]
     },
     "metadata": {
      "needs_background": "light"
     },
     "output_type": "display_data"
    }
   ],
   "source": [
    "f_supplies.plot()\n",
    "f_supplies_mean.plot()"
   ]
  },
  {
   "cell_type": "code",
   "execution_count": 178,
   "metadata": {},
   "outputs": [],
   "source": [
    "value = pd.DataFrame(series_value)"
   ]
  },
  {
   "cell_type": "code",
   "execution_count": 179,
   "metadata": {},
   "outputs": [],
   "source": [
    "supplies_df = pd.concat([value, value.shift(1)], axis=1)"
   ]
  },
  {
   "cell_type": "code",
   "execution_count": 180,
   "metadata": {},
   "outputs": [
    {
     "data": {
      "text/html": [
       "<div>\n",
       "<style scoped>\n",
       "    .dataframe tbody tr th:only-of-type {\n",
       "        vertical-align: middle;\n",
       "    }\n",
       "\n",
       "    .dataframe tbody tr th {\n",
       "        vertical-align: top;\n",
       "    }\n",
       "\n",
       "    .dataframe thead th {\n",
       "        text-align: right;\n",
       "    }\n",
       "</style>\n",
       "<table border=\"1\" class=\"dataframe\">\n",
       "  <thead>\n",
       "    <tr style=\"text-align: right;\">\n",
       "      <th></th>\n",
       "      <th>0</th>\n",
       "      <th>0</th>\n",
       "    </tr>\n",
       "  </thead>\n",
       "  <tbody>\n",
       "    <tr>\n",
       "      <th>0</th>\n",
       "      <td>2016</td>\n",
       "      <td>NaN</td>\n",
       "    </tr>\n",
       "    <tr>\n",
       "      <th>1</th>\n",
       "      <td>2153</td>\n",
       "      <td>2016.0</td>\n",
       "    </tr>\n",
       "    <tr>\n",
       "      <th>2</th>\n",
       "      <td>4211</td>\n",
       "      <td>2153.0</td>\n",
       "    </tr>\n",
       "    <tr>\n",
       "      <th>3</th>\n",
       "      <td>2448</td>\n",
       "      <td>4211.0</td>\n",
       "    </tr>\n",
       "    <tr>\n",
       "      <th>4</th>\n",
       "      <td>3216</td>\n",
       "      <td>2448.0</td>\n",
       "    </tr>\n",
       "  </tbody>\n",
       "</table>\n",
       "</div>"
      ],
      "text/plain": [
       "      0       0\n",
       "0  2016     NaN\n",
       "1  2153  2016.0\n",
       "2  4211  2153.0\n",
       "3  2448  4211.0\n",
       "4  3216  2448.0"
      ]
     },
     "execution_count": 180,
     "metadata": {},
     "output_type": "execute_result"
    }
   ],
   "source": [
    "supplies_df.head()"
   ]
  },
  {
   "cell_type": "code",
   "execution_count": 181,
   "metadata": {},
   "outputs": [],
   "source": [
    "supplies_df.columns = ['Actual_usage', 'Forecast_usage']"
   ]
  },
  {
   "cell_type": "code",
   "execution_count": 182,
   "metadata": {},
   "outputs": [
    {
     "data": {
      "text/html": [
       "<div>\n",
       "<style scoped>\n",
       "    .dataframe tbody tr th:only-of-type {\n",
       "        vertical-align: middle;\n",
       "    }\n",
       "\n",
       "    .dataframe tbody tr th {\n",
       "        vertical-align: top;\n",
       "    }\n",
       "\n",
       "    .dataframe thead th {\n",
       "        text-align: right;\n",
       "    }\n",
       "</style>\n",
       "<table border=\"1\" class=\"dataframe\">\n",
       "  <thead>\n",
       "    <tr style=\"text-align: right;\">\n",
       "      <th></th>\n",
       "      <th>Actual_usage</th>\n",
       "      <th>Forecast_usage</th>\n",
       "    </tr>\n",
       "  </thead>\n",
       "  <tbody>\n",
       "    <tr>\n",
       "      <th>0</th>\n",
       "      <td>2016</td>\n",
       "      <td>NaN</td>\n",
       "    </tr>\n",
       "    <tr>\n",
       "      <th>1</th>\n",
       "      <td>2153</td>\n",
       "      <td>2016.0</td>\n",
       "    </tr>\n",
       "    <tr>\n",
       "      <th>2</th>\n",
       "      <td>4211</td>\n",
       "      <td>2153.0</td>\n",
       "    </tr>\n",
       "    <tr>\n",
       "      <th>3</th>\n",
       "      <td>2448</td>\n",
       "      <td>4211.0</td>\n",
       "    </tr>\n",
       "    <tr>\n",
       "      <th>4</th>\n",
       "      <td>3216</td>\n",
       "      <td>2448.0</td>\n",
       "    </tr>\n",
       "  </tbody>\n",
       "</table>\n",
       "</div>"
      ],
      "text/plain": [
       "   Actual_usage  Forecast_usage\n",
       "0          2016             NaN\n",
       "1          2153          2016.0\n",
       "2          4211          2153.0\n",
       "3          2448          4211.0\n",
       "4          3216          2448.0"
      ]
     },
     "execution_count": 182,
     "metadata": {},
     "output_type": "execute_result"
    }
   ],
   "source": [
    "supplies_df.head()"
   ]
  },
  {
   "cell_type": "code",
   "execution_count": 183,
   "metadata": {},
   "outputs": [],
   "source": [
    "supplies_test = supplies_df[1:]"
   ]
  },
  {
   "cell_type": "code",
   "execution_count": 184,
   "metadata": {},
   "outputs": [
    {
     "data": {
      "text/html": [
       "<div>\n",
       "<style scoped>\n",
       "    .dataframe tbody tr th:only-of-type {\n",
       "        vertical-align: middle;\n",
       "    }\n",
       "\n",
       "    .dataframe tbody tr th {\n",
       "        vertical-align: top;\n",
       "    }\n",
       "\n",
       "    .dataframe thead th {\n",
       "        text-align: right;\n",
       "    }\n",
       "</style>\n",
       "<table border=\"1\" class=\"dataframe\">\n",
       "  <thead>\n",
       "    <tr style=\"text-align: right;\">\n",
       "      <th></th>\n",
       "      <th>Actual_usage</th>\n",
       "      <th>Forecast_usage</th>\n",
       "    </tr>\n",
       "  </thead>\n",
       "  <tbody>\n",
       "    <tr>\n",
       "      <th>1</th>\n",
       "      <td>2153</td>\n",
       "      <td>2016.0</td>\n",
       "    </tr>\n",
       "    <tr>\n",
       "      <th>2</th>\n",
       "      <td>4211</td>\n",
       "      <td>2153.0</td>\n",
       "    </tr>\n",
       "    <tr>\n",
       "      <th>3</th>\n",
       "      <td>2448</td>\n",
       "      <td>4211.0</td>\n",
       "    </tr>\n",
       "    <tr>\n",
       "      <th>4</th>\n",
       "      <td>3216</td>\n",
       "      <td>2448.0</td>\n",
       "    </tr>\n",
       "    <tr>\n",
       "      <th>5</th>\n",
       "      <td>2210</td>\n",
       "      <td>3216.0</td>\n",
       "    </tr>\n",
       "  </tbody>\n",
       "</table>\n",
       "</div>"
      ],
      "text/plain": [
       "   Actual_usage  Forecast_usage\n",
       "1          2153          2016.0\n",
       "2          4211          2153.0\n",
       "3          2448          4211.0\n",
       "4          3216          2448.0\n",
       "5          2210          3216.0"
      ]
     },
     "execution_count": 184,
     "metadata": {},
     "output_type": "execute_result"
    }
   ],
   "source": [
    "supplies_test.head()"
   ]
  },
  {
   "cell_type": "code",
   "execution_count": 185,
   "metadata": {},
   "outputs": [],
   "source": [
    "supplies_error = mean_squared_error(supplies_test.Actual_usage, supplies_test.Forecast_usage)"
   ]
  },
  {
   "cell_type": "code",
   "execution_count": 186,
   "metadata": {},
   "outputs": [
    {
     "data": {
      "text/plain": [
       "1271692.416458229"
      ]
     },
     "execution_count": 186,
     "metadata": {},
     "output_type": "execute_result"
    }
   ],
   "source": [
    "supplies_error"
   ]
  },
  {
   "cell_type": "code",
   "execution_count": 187,
   "metadata": {},
   "outputs": [
    {
     "data": {
      "text/plain": [
       "1127.6934053448344"
      ]
     },
     "execution_count": 187,
     "metadata": {},
     "output_type": "execute_result"
    }
   ],
   "source": [
    "np.sqrt(supplies_error)"
   ]
  },
  {
   "cell_type": "code",
   "execution_count": 188,
   "metadata": {},
   "outputs": [
    {
     "data": {
      "image/png": "[encoded data removed]",
      "text/plain": [
       "<Figure size 432x288 with 1 Axes>"
      ]
     },
     "execution_count": 188,
     "metadata": {},
     "output_type": "execute_result"
    },
    {
     "data": {
      "image/png": "[encoded data removed]",
      "text/plain": [
       "<Figure size 432x288 with 1 Axes>"
      ]
     },
     "metadata": {
      "needs_background": "light"
     },
     "output_type": "display_data"
    }
   ],
   "source": [
    "# plot_acf is to identify parameter Q\n",
    "# ARIMA(p, d, q)\n",
    "\n",
    "plot_acf(f_supplies)"
   ]
  },
  {
   "cell_type": "code",
   "execution_count": 189,
   "metadata": {},
   "outputs": [
    {
     "data": {
      "image/png": "[encoded data removed]",
      "text/plain": [
       "<Figure size 432x288 with 1 Axes>"
      ]
     },
     "execution_count": 189,
     "metadata": {},
     "output_type": "execute_result"
    },
    {
     "data": {
      "image/png": "[encoded data removed]",
      "text/plain": [
       "<Figure size 432x288 with 1 Axes>"
      ]
     },
     "metadata": {
      "needs_background": "light"
     },
     "output_type": "display_data"
    }
   ],
   "source": [
    "# to identify the value of p\n",
    "\n",
    "plot_pacf(f_supplies)"
   ]
  },
  {
   "cell_type": "code",
   "execution_count": 190,
   "metadata": {},
   "outputs": [
    {
     "data": {
      "text/plain": [
       "3999"
      ]
     },
     "execution_count": 190,
     "metadata": {},
     "output_type": "execute_result"
    }
   ],
   "source": [
    "f_supplies.size"
   ]
  },
  {
   "cell_type": "code",
   "execution_count": 221,
   "metadata": {},
   "outputs": [],
   "source": [
    "supplies_train, supplies_test = np.split(f_supplies, [int(.75*len(f_supplies))])"
   ]
  },
  {
   "cell_type": "code",
   "execution_count": 225,
   "metadata": {},
   "outputs": [
    {
     "data": {
      "text/plain": [
       "2999"
      ]
     },
     "execution_count": 225,
     "metadata": {},
     "output_type": "execute_result"
    }
   ],
   "source": [
    "supplies_train.size"
   ]
  },
  {
   "cell_type": "code",
   "execution_count": 226,
   "metadata": {},
   "outputs": [],
   "source": [
    "# p=2,3 d=0 q=3,4\n"
   ]
  },
  {
   "cell_type": "code",
   "execution_count": 227,
   "metadata": {},
   "outputs": [
    {
     "data": {
      "text/plain": [
       "1000"
      ]
     },
     "execution_count": 227,
     "metadata": {},
     "output_type": "execute_result"
    }
   ],
   "source": [
    "supplies_test.size"
   ]
  },
  {
   "cell_type": "code",
   "execution_count": 228,
   "metadata": {},
   "outputs": [
    {
     "name": "stderr",
     "output_type": "stream",
     "text": [
      "C:\\Users\\Piyumal\\anaconda3\\envs\\py38\\lib\\site-packages\\statsmodels\\tsa\\base\\tsa_model.py:159: ValueWarning: No frequency information was provided, so inferred frequency D will be used.\n",
      "  warnings.warn('No frequency information was'\n"
     ]
    }
   ],
   "source": [
    "supplies_model = ARIMA(supplies_train, order=(3, 0, 3))"
   ]
  },
  {
   "cell_type": "code",
   "execution_count": 229,
   "metadata": {},
   "outputs": [],
   "source": [
    "supplies_model_fit = supplies_model.fit()"
   ]
  },
  {
   "cell_type": "code",
   "execution_count": 230,
   "metadata": {},
   "outputs": [
    {
     "data": {
      "text/plain": [
       "48780.0378694968"
      ]
     },
     "execution_count": 230,
     "metadata": {},
     "output_type": "execute_result"
    }
   ],
   "source": [
    "supplies_model_fit.aic"
   ]
  },
  {
   "cell_type": "code",
   "execution_count": 235,
   "metadata": {},
   "outputs": [],
   "source": [
    "supplies_forecast = supplies_model_fit.forecast(steps = supplies_test.size)[0]"
   ]
  },
  {
   "cell_type": "code",
   "execution_count": 236,
   "metadata": {},
   "outputs": [
    {
     "data": {
      "text/plain": [
       "array([2839.10279041, 2823.44683572, 2862.91528533, 2837.90150615,\n",
       "       2870.94709   , 2844.59891293, 2875.19145476, 2849.3639452 ,\n",
       "       2878.47611412, 2853.57240493, 2881.46920591, 2857.551707  ,\n",
       "       2884.32998152, 2861.38214333, 2887.0977414 , 2865.08567724,\n",
       "       2889.78347581, 2868.67042987, 2892.39145815, 2872.1411652 ,\n",
       "       2894.92433379, 2875.5017636 , 2897.38432029, 2878.75580774,\n",
       "       2899.77349128, 2881.90672357, 2902.09384443, 2884.95781635,\n",
       "       2904.34731858, 2887.91228197, 2906.53579878, 2890.77321223,\n",
       "       2908.66111852, 2893.54359864, 2910.72506126, 2896.22633585,\n",
       "       2912.72936175, 2898.82422486, 2914.6757073 , 2901.33997603,\n",
       "       2916.56573903, 2903.77621216, 2918.40105304, 2906.13547124,\n",
       "       2920.1832016 , 2908.42020935, 2921.9136943 , 2910.63280324,\n",
       "       2923.59399914, 2912.775553  , 2925.22554365, 2914.8506845 ,\n",
       "       2926.80971591, 2916.8603519 , 2928.34786565, 2918.80663991,\n",
       "       2929.84130522, 2920.69156611, 2931.29131057, 2922.51708311,\n",
       "       2932.69912224, 2924.28508072, 2934.0659463 , 2925.99738794,\n",
       "       2935.39295526, 2927.65577495, 2936.68128894, 2929.26195508,\n",
       "       2937.9320554 , 2930.81758659, 2939.14633173, 2932.3242745 ,\n",
       "       2940.32516493, 2933.78357233, 2941.46957267, 2935.19698374,\n",
       "       2942.58054414, 2936.56596419, 2943.65904074, 2937.89192248,\n",
       "       2944.70599691, 2939.17622225, 2945.72232082, 2940.4201835 ,\n",
       "       2946.70889507, 2941.62508393, 2947.6665774 , 2942.79216038,\n",
       "       2948.59620138, 2943.92261013, 2949.49857705, 2945.01759214,\n",
       "       2950.37449157, 2946.07822836, 2951.22470982, 2947.10560489,\n",
       "       2952.04997505, 2948.10077312, 2952.85100945, 2949.0647509 ,\n",
       "       2953.62851474, 2949.99852358, 2954.38317271, 2950.90304508,\n",
       "       2955.11564578, 2951.77923892, 2955.82657755, 2952.62799916,\n",
       "       2956.5165933 , 2953.45019138, 2957.18630051, 2954.24665359,\n",
       "       2957.83628933, 2955.01819711, 2958.46713308, 2955.76560747,\n",
       "       2959.07938871, 2956.48964517, 2959.67359727, 2957.19104654,\n",
       "       2960.25028432, 2957.87052449, 2960.8099604 , 2958.5287693 ,\n",
       "       2961.3531214 , 2959.16644928, 2961.88024903, 2959.78421156,\n",
       "       2962.39181116, 2960.38268269, 2962.88826224, 2960.96246935,\n",
       "       2963.37004366, 2961.52415898, 2963.83758414, 2962.06832039,\n",
       "       2964.29130005, 2962.59550433, 2964.73159578, 2963.10624414,\n",
       "       2965.15886407, 2963.60105624, 2965.57348635, 2964.08044068,\n",
       "       2965.97583305, 2964.54488172, 2966.36626389, 2964.99484825,\n",
       "       2966.74512822, 2965.43079435, 2967.11276528, 2965.85315974,\n",
       "       2967.46950452, 2966.26237022, 2967.81566584, 2966.65883816,\n",
       "       2968.15155989, 2967.04296287, 2968.47748832, 2967.41513106,\n",
       "       2968.79374403, 2967.77571724, 2969.10061142, 2968.12508408,\n",
       "       2969.39836666, 2968.46358281, 2969.68727788, 2968.7915536 ,\n",
       "       2969.96760543, 2969.10932585, 2970.23960208, 2969.41721862,\n",
       "       2970.50351328, 2969.71554088, 2970.75957729, 2970.00459188,\n",
       "       2971.00802548, 2970.28466145, 2971.24908245, 2970.55603029,\n",
       "       2971.48296627, 2970.81897024, 2971.70988863, 2971.07374462,\n",
       "       2971.93005508, 2971.32060844, 2972.14366513, 2971.5598087 ,\n",
       "       2972.35091249, 2971.79158463, 2972.55198521, 2972.01616795,\n",
       "       2972.74706582, 2972.23378308, 2972.93633155, 2972.44464741,\n",
       "       2973.1199544 , 2972.64897147, 2973.29810137, 2972.84695922,\n",
       "       2973.47093456, 2973.03880819, 2973.63861132, 2973.22470972,\n",
       "       2973.80128437, 2973.40484914, 2973.95910198, 2973.57940597,\n",
       "       2974.11220806, 2973.74855411, 2974.26074228, 2973.91246199,\n",
       "       2974.40484024, 2974.07129279, 2974.54463353, 2974.22520454,\n",
       "       2974.68024989, 2974.37435034, 2974.81181329, 2974.5188785 ,\n",
       "       2974.93944407, 2974.65893268, 2975.06325902, 2974.79465204,\n",
       "       2975.18337149, 2974.92617139, 2975.29989151, 2975.05362131,\n",
       "       2975.41292584, 2975.17712832, 2975.52257812, 2975.29681496,\n",
       "       2975.62894892, 2975.41279996, 2975.73213585, 2975.52519831,\n",
       "       2975.83223365, 2975.63412143, 2975.92933425, 2975.73967726,\n",
       "       2976.02352687, 2975.84197036, 2976.11489809, 2975.94110202,\n",
       "       2976.20353195, 2976.03717037, 2976.28951   , 2976.13027049,\n",
       "       2976.37291136, 2976.22049449, 2976.45381284, 2976.30793158,\n",
       "       2976.53228896, 2976.39266822, 2976.60841204, 2976.47478817,\n",
       "       2976.68225225, 2976.55437255, 2976.75387771, 2976.63149998,\n",
       "       2976.82335448, 2976.70624662, 2976.89074671, 2976.77868626,\n",
       "       2976.95611661, 2976.84889039, 2977.01952456, 2976.91692827,\n",
       "       2977.08102917, 2976.982867  , 2977.14068727, 2977.0467716 ,\n",
       "       2977.19855405, 2977.10870507, 2977.25468302, 2977.16872844,\n",
       "       2977.30912613, 2977.22690083, 2977.36193377, 2977.28327955,\n",
       "       2977.41315485, 2977.3379201 , 2977.46283681, 2977.39087628,\n",
       "       2977.5110257 , 2977.44220018, 2977.55776618, 2977.49194232,\n",
       "       2977.6031016 , 2977.54015161, 2977.64707399, 2977.58687546,\n",
       "       2977.68972418, 2977.63215979, 2977.73109174, 2977.67604912,\n",
       "       2977.77121508, 2977.71858656, 2977.81013147, 2977.7598139 ,\n",
       "       2977.84787707, 2977.79977163, 2977.88448695, 2977.83849897,\n",
       "       2977.91999514, 2977.87603395, 2977.95443467, 2977.91241338,\n",
       "       2977.98783757, 2977.94767297, 2978.02023491, 2977.9818473 ,\n",
       "       2978.05165686, 2978.01496987, 2978.08213267, 2978.04707316,\n",
       "       2978.11169072, 2978.07818864, 2978.14035853, 2978.10834679,\n",
       "       2978.16816284, 2978.13757717, 2978.19512954, 2978.16590839,\n",
       "       2978.22128377, 2978.19336821, 2978.24664994, 2978.2199835 ,\n",
       "       2978.2712517 , 2978.24578032, 2978.295112  , 2978.27078391,\n",
       "       2978.31825312, 2978.29501874, 2978.34069665, 2978.3185085 ,\n",
       "       2978.36246356, 2978.34127618, 2978.38357417, 2978.36334403,\n",
       "       2978.4040482 , 2978.38473362, 2978.42390479, 2978.40546587,\n",
       "       2978.4431625 , 2978.42556102, 2978.46183933, 2978.4450387 ,\n",
       "       2978.47995275, 2978.46391795, 2978.49751969, 2978.4822172 ,\n",
       "       2978.5145566 , 2978.49995432, 2978.53107942, 2978.51714661,\n",
       "       2978.54710361, 2978.53381086, 2978.56264417, 2978.54996333,\n",
       "       2978.57771567, 2978.56561978, 2978.5923322 , 2978.58079547,\n",
       "       2978.60650747, 2978.59550521, 2978.62025477, 2978.60976334,\n",
       "       2978.63358697, 2978.62358376, 2978.64651657, 2978.63697994,\n",
       "       2978.65905569, 2978.64996493, 2978.67121611, 2978.66255139,\n",
       "       2978.68300921, 2978.67475157, 2978.69444608, 2978.68657737,\n",
       "       2978.70553743, 2978.69804028, 2978.71629368, 2978.70915149,\n",
       "       2978.72672493, 2978.71992179, 2978.73684097, 2978.73036168,\n",
       "       2978.7466513 , 2978.74048132, 2978.75616514, 2978.75029055,\n",
       "       2978.76539142, 2978.75979891, 2978.77433882, 2978.76901565,\n",
       "       2978.78301575, 2978.77794973, 2978.79143035, 2978.78660985,\n",
       "       2978.79959055, 2978.79500442, 2978.80750401, 2978.8031416 ,\n",
       "       2978.81517818, 2978.8110293 , 2978.82262028, 2978.81867518,\n",
       "       2978.8298373 , 2978.82608668, 2978.83683605, 2978.83327099,\n",
       "       2978.8436231 , 2978.84023509, 2978.85020485, 2978.84698575,\n",
       "       2978.85658749, 2978.85352951, 2978.86277703, 2978.85987274,\n",
       "       2978.86877931, 2978.86602158, 2978.87459997, 2978.87198201,\n",
       "       2978.8802445 , 2978.87775982, 2978.88571821, 2978.8833606 ,\n",
       "       2978.89102627, 2978.8887898 , 2978.89617368, 2978.89405267,\n",
       "       2978.9011653 , 2978.89915433, 2978.90600582, 2978.90409972,\n",
       "       2978.91069981, 2978.90889363, 2978.9152517 , 2978.91354072,\n",
       "       2978.91966578, 2978.91804548, 2978.92394621, 2978.92241229,\n",
       "       2978.92809704, 2978.92664538, 2978.93212219, 2978.93074885,\n",
       "       2978.93602544, 2978.93472667, 2978.93981049, 2978.9385827 ,\n",
       "       2978.9434809 , 2978.94232067, 2978.94704015, 2978.94594421,\n",
       "       2978.95049159, 2978.94945682, 2978.95383848, 2978.95286191,\n",
       "       2978.95708399, 2978.95616276, 2978.96023118, 2978.95936259,\n",
       "       2978.96328303, 2978.96246447, 2978.96624241, 2978.96547143,\n",
       "       2978.96911212, 2978.96838636, 2978.97189489, 2978.97121208,\n",
       "       2978.97459332, 2978.97395134, 2978.97720999, 2978.97660678,\n",
       "       2978.97974736, 2978.97918096, 2978.98220783, 2978.98167639,\n",
       "       2978.98459373, 2978.98409547, 2978.98690731, 2978.98644054,\n",
       "       2978.98915076, 2978.98871386, 2978.99132621, 2978.99091765,\n",
       "       2978.99343572, 2978.99305402, 2978.99548127, 2978.99512504,\n",
       "       2978.99746481, 2978.99713272, 2978.99938821, 2978.99907899,\n",
       "       2979.00125329, 2979.00096574, 2979.00306183, 2979.00279478,\n",
       "       2979.00481552, 2979.00456789, 2979.00651604, 2979.00628678,\n",
       "       2979.00816499, 2979.0079531 , 2979.00976393, 2979.00956847,\n",
       "       2979.01131438, 2979.01113445, 2979.01281781, 2979.01265255,\n",
       "       2979.01427564, 2979.01412423, 2979.01568925, 2979.01555092,\n",
       "       2979.01705998, 2979.01693399, 2979.01838913, 2979.01827478,\n",
       "       2979.01967797, 2979.01957459, 2979.0209277 , 2979.02083466,\n",
       "       2979.02213952, 2979.02205621, 2979.02331458, 2979.02324042,\n",
       "       2979.02445398, 2979.02438844, 2979.02555882, 2979.02550137,\n",
       "       2979.02663013, 2979.02658029, 2979.02766893, 2979.02762623,\n",
       "       2979.02867621, 2979.02864021, 2979.02965293, 2979.0296232 ,\n",
       "       2979.03060001, 2979.03057615, 2979.03151834, 2979.03149998,\n",
       "       2979.03240881, 2979.03239558, 2979.03327225, 2979.03326382,\n",
       "       2979.03410948, 2979.03410553, 2979.0349213 , 2979.03492152,\n",
       "       2979.03570848, 2979.03571258, 2979.03647177, 2979.03647947,\n",
       "       2979.03721188, 2979.03722293, 2979.03792953, 2979.03794368,\n",
       "       2979.0386254 , 2979.03864242, 2979.03930014, 2979.0393198 ,\n",
       "       2979.03995439, 2979.0399765 , 2979.04058878, 2979.04061313,\n",
       "       2979.04120391, 2979.04123032, 2979.04180037, 2979.04182866,\n",
       "       2979.04237871, 2979.04240872, 2979.0429395 , 2979.04297107,\n",
       "       2979.04348326, 2979.04351624, 2979.0440105 , 2979.04404476,\n",
       "       2979.04452173, 2979.04455714, 2979.04501744, 2979.04505388,\n",
       "       2979.0454981 , 2979.04553544, 2979.04596416, 2979.0460023 ,\n",
       "       2979.04641606, 2979.0464549 , 2979.04685424, 2979.04689368,\n",
       "       2979.04727912, 2979.04731907, 2979.04769108, 2979.04773146,\n",
       "       2979.04809054, 2979.04813126, 2979.04847786, 2979.04851886,\n",
       "       2979.04885342, 2979.04889462, 2979.04921757, 2979.04925891,\n",
       "       2979.04957066, 2979.04961208, 2979.04991302, 2979.04995446,\n",
       "       2979.05024498, 2979.0502864 , 2979.05056686, 2979.0506082 ,\n",
       "       2979.05087896, 2979.05092017, 2979.05118157, 2979.05122263,\n",
       "       2979.051475  , 2979.05151585, 2979.0517595 , 2979.05180011,\n",
       "       2979.05203537, 2979.05207571, 2979.05230285, 2979.05234289,\n",
       "       2979.05256221, 2979.05260191, 2979.05281368, 2979.05285303,\n",
       "       2979.05305752, 2979.05309649, 2979.05329394, 2979.05333251,\n",
       "       2979.05352318, 2979.05356133, 2979.05374546, 2979.05378317,\n",
       "       2979.05396098, 2979.05399824, 2979.05416995, 2979.05420674,\n",
       "       2979.05437257, 2979.05440888, 2979.05456903, 2979.05460485,\n",
       "       2979.05475953, 2979.05479484, 2979.05494423, 2979.05497904,\n",
       "       2979.05512332, 2979.05515761, 2979.05529697, 2979.05533073,\n",
       "       2979.05546533, 2979.05549857, 2979.05562859, 2979.05566129,\n",
       "       2979.05578688, 2979.05581905, 2979.05594035, 2979.05597199,\n",
       "       2979.05608917, 2979.05612027, 2979.05623346, 2979.05626402,\n",
       "       2979.05637336, 2979.05640338, 2979.05650901, 2979.05653849,\n",
       "       2979.05664054, 2979.05666949, 2979.05676807, 2979.05679648,\n",
       "       2979.05689172, 2979.0569196 , 2979.05701162, 2979.05703896,\n",
       "       2979.05712787, 2979.05715469, 2979.05724058, 2979.05726688,\n",
       "       2979.05734987, 2979.05737565, 2979.05745584, 2979.0574811 ,\n",
       "       2979.05755858, 2979.05758333, 2979.0576582 , 2979.05768245,\n",
       "       2979.05775479, 2979.05777854, 2979.05784845, 2979.0578717 ,\n",
       "       2979.05793925, 2979.05796202, 2979.0580273 , 2979.05804959,\n",
       "       2979.05811267, 2979.05813448, 2979.05819544, 2979.05821679,\n",
       "       2979.0582757 , 2979.05829658, 2979.05835352, 2979.05837394,\n",
       "       2979.05842897, 2979.05844894, 2979.05850212, 2979.05852166,\n",
       "       2979.05857306, 2979.05859215, 2979.05864183, 2979.0586605 ,\n",
       "       2979.05870851, 2979.05872676, 2979.05877317, 2979.058791  ,\n",
       "       2979.05883586, 2979.05885328, 2979.05889664, 2979.05891366,\n",
       "       2979.05895558, 2979.0589722 , 2979.05901272, 2979.05902896,\n",
       "       2979.05906812, 2979.05908398, 2979.05912184, 2979.05913733,\n",
       "       2979.05917393, 2979.05918905, 2979.05922443, 2979.05923919,\n",
       "       2979.05927339, 2979.0592878 , 2979.05932087, 2979.05933493,\n",
       "       2979.0593669 , 2979.05938063, 2979.05941153, 2979.05942493,\n",
       "       2979.05945481, 2979.05946788, 2979.05949677, 2979.05950952,\n",
       "       2979.05953745, 2979.05954989, 2979.0595769 , 2979.05958903,\n",
       "       2979.05961514, 2979.05962697, 2979.05965222, 2979.05966376,\n",
       "       2979.05968818, 2979.05969943, 2979.05972304, 2979.05973401,\n",
       "       2979.05975684, 2979.05976753, 2979.05978961, 2979.05980004,\n",
       "       2979.05982138, 2979.05983155, 2979.05985219, 2979.0598621 ,\n",
       "       2979.05988206, 2979.05989172, 2979.05991103, 2979.05992044,\n",
       "       2979.05993911, 2979.05994828, 2979.05996634, 2979.05997527,\n",
       "       2979.05999273, 2979.06000144, 2979.06001833, 2979.06002681,\n",
       "       2979.06004315, 2979.06005141, 2979.06006721, 2979.06007526,\n",
       "       2979.06009054, 2979.06009838, 2979.06011316, 2979.0601208 ,\n",
       "       2979.06013509, 2979.06014253, 2979.06015636, 2979.0601636 ,\n",
       "       2979.06017698, 2979.06018403, 2979.06019697, 2979.06020383,\n",
       "       2979.06021635, 2979.06022304, 2979.06023514, 2979.06024165,\n",
       "       2979.06025336, 2979.0602597 , 2979.06027103, 2979.0602772 ,\n",
       "       2979.06028816, 2979.06029417, 2979.06030477, 2979.06031061,\n",
       "       2979.06032087, 2979.06032656, 2979.06033648, 2979.06034202,\n",
       "       2979.06035162, 2979.06035701, 2979.0603663 , 2979.06037154,\n",
       "       2979.06038053, 2979.06038563, 2979.06039433, 2979.06039929,\n",
       "       2979.0604077 , 2979.06041254, 2979.06042067, 2979.06042538,\n",
       "       2979.06043325, 2979.06043783, 2979.06044544, 2979.0604499 ,\n",
       "       2979.06045727, 2979.0604616 , 2979.06046873, 2979.06047294,\n",
       "       2979.06047984, 2979.06048394, 2979.06049062, 2979.06049461,\n",
       "       2979.06050107, 2979.06050494, 2979.0605112 , 2979.06051497,\n",
       "       2979.06052102, 2979.06052469, 2979.06053054, 2979.06053411,\n",
       "       2979.06053977, 2979.06054324, 2979.06054873, 2979.0605521 ,\n",
       "       2979.0605574 , 2979.06056069, 2979.06056582, 2979.06056901,\n",
       "       2979.06057398, 2979.06057708, 2979.06058189, 2979.06058491,\n",
       "       2979.06058956, 2979.06059249, 2979.060597  , 2979.06059985,\n",
       "       2979.06060421, 2979.06060698, 2979.0606112 , 2979.0606139 ,\n",
       "       2979.06061798, 2979.0606206 , 2979.06062455, 2979.0606271 ,\n",
       "       2979.06063092, 2979.0606334 , 2979.0606371 , 2979.06063951,\n",
       "       2979.06064309, 2979.06064543, 2979.0606489 , 2979.06065117,\n",
       "       2979.06065453, 2979.06065674, 2979.06065999, 2979.06066214,\n",
       "       2979.06066528, 2979.06066737, 2979.06067041, 2979.06067244,\n",
       "       2979.06067539, 2979.06067736, 2979.06068021, 2979.06068213,\n",
       "       2979.06068489, 2979.06068676, 2979.06068943, 2979.06069124,\n",
       "       2979.06069383, 2979.06069559, 2979.06069809, 2979.0606998 ,\n",
       "       2979.06070222, 2979.06070388, 2979.06070623, 2979.06070785,\n",
       "       2979.06071012, 2979.06071169, 2979.06071389, 2979.06071541,\n",
       "       2979.06071754, 2979.06071902, 2979.06072108, 2979.06072252,\n",
       "       2979.06072451, 2979.06072591, 2979.06072784, 2979.0607292 ,\n",
       "       2979.06073107, 2979.06073239, 2979.0607342 , 2979.06073548,\n",
       "       2979.06073724, 2979.06073848, 2979.06074018, 2979.06074139,\n",
       "       2979.06074303, 2979.06074421, 2979.0607458 , 2979.06074694,\n",
       "       2979.06074848, 2979.06074959, 2979.06075108, 2979.06075216,\n",
       "       2979.0607536 , 2979.06075465, 2979.06075605, 2979.06075706,\n",
       "       2979.06075842, 2979.0607594 , 2979.06076071, 2979.06076167,\n",
       "       2979.06076294, 2979.06076387, 2979.0607651 , 2979.060766  ,\n",
       "       2979.06076719, 2979.06076807, 2979.06076923, 2979.06077008,\n",
       "       2979.06077119, 2979.06077202, 2979.0607731 , 2979.06077391,\n",
       "       2979.06077495, 2979.06077573, 2979.06077675, 2979.06077751,\n",
       "       2979.06077849, 2979.06077922, 2979.06078017, 2979.06078089,\n",
       "       2979.06078181, 2979.0607825 , 2979.06078339, 2979.06078407,\n",
       "       2979.06078493, 2979.06078559, 2979.06078642, 2979.06078706,\n",
       "       2979.06078787, 2979.06078849, 2979.06078927, 2979.06078987,\n",
       "       2979.06079063, 2979.06079121, 2979.06079194, 2979.06079251,\n",
       "       2979.06079322, 2979.06079377, 2979.06079446, 2979.06079499,\n",
       "       2979.06079566, 2979.06079618, 2979.06079682, 2979.06079733,\n",
       "       2979.06079795, 2979.06079844, 2979.06079905, 2979.06079952,\n",
       "       2979.06080011, 2979.06080057, 2979.06080114, 2979.06080158,\n",
       "       2979.06080213, 2979.06080257, 2979.0608031 , 2979.06080352,\n",
       "       2979.06080404, 2979.06080445, 2979.06080495, 2979.06080534,\n",
       "       2979.06080583, 2979.06080621, 2979.06080668, 2979.06080706,\n",
       "       2979.06080751, 2979.06080787, 2979.06080831, 2979.06080867])"
      ]
     },
     "execution_count": 236,
     "metadata": {},
     "output_type": "execute_result"
    }
   ],
   "source": [
    "supplies_forecast"
   ]
  },
  {
   "cell_type": "code",
   "execution_count": 237,
   "metadata": {},
   "outputs": [
    {
     "data": {
      "text/html": [
       "<div>\n",
       "<style scoped>\n",
       "    .dataframe tbody tr th:only-of-type {\n",
       "        vertical-align: middle;\n",
       "    }\n",
       "\n",
       "    .dataframe tbody tr th {\n",
       "        vertical-align: top;\n",
       "    }\n",
       "\n",
       "    .dataframe thead th {\n",
       "        text-align: right;\n",
       "    }\n",
       "</style>\n",
       "<table border=\"1\" class=\"dataframe\">\n",
       "  <thead>\n",
       "    <tr style=\"text-align: right;\">\n",
       "      <th></th>\n",
       "      <th>supplies</th>\n",
       "    </tr>\n",
       "    <tr>\n",
       "      <th>date</th>\n",
       "      <th></th>\n",
       "    </tr>\n",
       "  </thead>\n",
       "  <tbody>\n",
       "    <tr>\n",
       "      <th>2017-10-05</th>\n",
       "      <td>3179</td>\n",
       "    </tr>\n",
       "    <tr>\n",
       "      <th>2017-10-06</th>\n",
       "      <td>2216</td>\n",
       "    </tr>\n",
       "    <tr>\n",
       "      <th>2017-10-07</th>\n",
       "      <td>2529</td>\n",
       "    </tr>\n",
       "    <tr>\n",
       "      <th>2017-10-08</th>\n",
       "      <td>2478</td>\n",
       "    </tr>\n",
       "    <tr>\n",
       "      <th>2017-10-09</th>\n",
       "      <td>2560</td>\n",
       "    </tr>\n",
       "    <tr>\n",
       "      <th>...</th>\n",
       "      <td>...</td>\n",
       "    </tr>\n",
       "    <tr>\n",
       "      <th>2020-06-26</th>\n",
       "      <td>3064</td>\n",
       "    </tr>\n",
       "    <tr>\n",
       "      <th>2020-06-27</th>\n",
       "      <td>4511</td>\n",
       "    </tr>\n",
       "    <tr>\n",
       "      <th>2020-06-28</th>\n",
       "      <td>2756</td>\n",
       "    </tr>\n",
       "    <tr>\n",
       "      <th>2020-06-29</th>\n",
       "      <td>4032</td>\n",
       "    </tr>\n",
       "    <tr>\n",
       "      <th>2020-06-30</th>\n",
       "      <td>2251</td>\n",
       "    </tr>\n",
       "  </tbody>\n",
       "</table>\n",
       "<p>1000 rows × 1 columns</p>\n",
       "</div>"
      ],
      "text/plain": [
       "            supplies\n",
       "date                \n",
       "2017-10-05      3179\n",
       "2017-10-06      2216\n",
       "2017-10-07      2529\n",
       "2017-10-08      2478\n",
       "2017-10-09      2560\n",
       "...              ...\n",
       "2020-06-26      3064\n",
       "2020-06-27      4511\n",
       "2020-06-28      2756\n",
       "2020-06-29      4032\n",
       "2020-06-30      2251\n",
       "\n",
       "[1000 rows x 1 columns]"
      ]
     },
     "execution_count": 237,
     "metadata": {},
     "output_type": "execute_result"
    }
   ],
   "source": [
    "supplies_test"
   ]
  },
  {
   "cell_type": "code",
   "execution_count": 238,
   "metadata": {},
   "outputs": [
    {
     "data": {
      "text/plain": [
       "820.9255035777073"
      ]
     },
     "execution_count": 238,
     "metadata": {},
     "output_type": "execute_result"
    }
   ],
   "source": [
    "np.sqrt(mean_squared_error(supplies_test, supplies_forecast))"
   ]
  },
  {
   "cell_type": "code",
   "execution_count": 239,
   "metadata": {},
   "outputs": [],
   "source": [
    "# saving model to disk\n",
    "\n",
    "#pickle.dump([supplies_model_fit, supplies_forecast], open('model.pkl', 'wb'))\n",
    "\n",
    "with open('model.pickle', 'wb') as f:\n",
    "    pickle.dump([supplies_test, supplies_forecast, supplies_model_fit], f)"
   ]
  },
  {
   "cell_type": "code",
   "execution_count": 240,
   "metadata": {},
   "outputs": [
    {
     "data": {
      "text/plain": [
       "[<matplotlib.lines.Line2D at 0x194005b4310>]"
      ]
     },
     "execution_count": 240,
     "metadata": {},
     "output_type": "execute_result"
    },
    {
     "data": {
      "image/png": "[encoded data removed]",
      "text/plain": [
       "<Figure size 432x288 with 1 Axes>"
      ]
     },
     "metadata": {
      "needs_background": "light"
     },
     "output_type": "display_data"
    }
   ],
   "source": [
    "plt.plot(supplies_forecast)"
   ]
  },
  {
   "cell_type": "code",
   "execution_count": 241,
   "metadata": {},
   "outputs": [
    {
     "data": {
      "text/plain": [
       "[<matplotlib.lines.Line2D at 0x194798b3490>]"
      ]
     },
     "execution_count": 241,
     "metadata": {},
     "output_type": "execute_result"
    },
    {
     "data": {
      "image/png": "[encoded data removed]",
      "text/plain": [
       "<Figure size 432x288 with 1 Axes>"
      ]
     },
     "metadata": {
      "needs_background": "light"
     },
     "output_type": "display_data"
    }
   ],
   "source": [
    "plt.plot(supplies_test)"
   ]
  },
  {
   "cell_type": "code",
   "execution_count": null,
   "metadata": {},
   "outputs": [],
   "source": []
  }
 ],
 "metadata": {
  "kernelspec": {
   "display_name": "Python 3",
   "language": "python",
   "name": "python3"
  },
  "language_info": {
   "codemirror_mode": {
    "name": "ipython",
    "version": 3
   },
   "file_extension": ".py",
   "mimetype": "text/x-python",
   "name": "python",
   "nbconvert_exporter": "python",
   "pygments_lexer": "ipython3",
   "version": "3.8.3"
  }
 },
 "nbformat": 4,
 "nbformat_minor": 4
}
